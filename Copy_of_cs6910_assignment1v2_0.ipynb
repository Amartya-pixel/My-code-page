{
  "cells": [
    {
      "cell_type": "markdown",
      "metadata": {
        "id": "view-in-github",
        "colab_type": "text"
      },
      "source": [
        "<a href=\"https://colab.research.google.com/github/Amartya-pixel/My-code-page/blob/master/Copy_of_cs6910_assignment1v2_0.ipynb\" target=\"_parent\"><img src=\"https://colab.research.google.com/assets/colab-badge.svg\" alt=\"Open In Colab\"/></a>"
      ]
    },
    {
      "cell_type": "code",
      "execution_count": 1,
      "metadata": {
        "id": "HVoYf90qUPHo"
      },
      "outputs": [],
      "source": [
        "#importing required packages\n",
        "import numpy as np\n",
        "import pandas as pd\n",
        "from sklearn.model_selection import train_test_split\n",
        "from sklearn.metrics import accuracy_score,confusion_matrix,classification_report\n",
        "import matplotlib.pyplot as plt\n",
        "import seaborn as sns"
      ]
    },
    {
      "cell_type": "code",
      "execution_count": 4,
      "metadata": {
        "id": "ppzZZcjxUyKY"
      },
      "outputs": [],
      "source": [
        "#importing datasets\n",
        "from keras.datasets import fashion_mnist\n",
        "(x_train,y_train), (x_test,y_test) = fashion_mnist.load_data()\n",
        "x_train,x_val,y_train,y_val = train_test_split(x_train,y_train,test_size=0.1,shuffle=True)"
      ]
    },
    {
      "cell_type": "code",
      "source": [
        "class_names = ['T-shirt/top', 'Trouser', 'Pullover', 'Dress', 'Coat',\n",
        "               'Sandal', 'Shirt', 'Sneaker', 'Bag', 'Ankle boot']"
      ],
      "metadata": {
        "id": "uvyRhFxTD-1z"
      },
      "execution_count": 5,
      "outputs": []
    },
    {
      "cell_type": "code",
      "execution_count": 6,
      "metadata": {
        "id": "pbQKM9EaWvrf"
      },
      "outputs": [],
      "source": [
        "X_train = np.float128(x_train.reshape(x_train.shape[0],x_train.shape[1]*x_train.shape[2]).T)\n",
        "Y_train = np.float128(pd.get_dummies(y_train).T)\n",
        "\n",
        "X_test = np.float128(x_test.reshape(x_test.shape[0],x_test.shape[1]*x_test.shape[2]).T)\n",
        "Y_test = np.float128(pd.get_dummies(y_test).T)\n",
        "\n",
        "X_val = np.float128(x_val.reshape(x_val.shape[0],x_val.shape[1]*x_val.shape[2]).T)\n",
        "Y_val = np.float128(pd.get_dummies(y_val).T)"
      ]
    },
    {
      "cell_type": "code",
      "execution_count": 7,
      "metadata": {
        "id": "_mx5Y89VXIjH"
      },
      "outputs": [],
      "source": [
        "class FeedForwardNN:\n",
        "  def __init__(self,config=None,epochs=5,hidden_layers=[64,64,64],weight_decay=0,learning_rate=1e-3,optimizer='sgd',batch_size=16,weight_initialization='random',activations='sigmoid',loss_function='cross-entropy',output_function='softmax',gamma=0.9,beta=0.9,beta1=0.9,beta2=0.999,eps=1e-8):\n",
        "    if config is not None:\n",
        "      self.epochs = config[\"epochs\"]\n",
        "      self.learning_rate = config[\"learning_rate\"]\n",
        "      self.weight_decay = config[\"weight_decay\"]\n",
        "      self.optimizer = config[\"optimizer\"]\n",
        "      self.batch_size = config[\"batch_size\"]\n",
        "      self.weight_initialization = config[\"weight_initialization\"]\n",
        "      self.activations = config[\"activations\"]\n",
        "      self.hidden_layers = [config[\"hidden_layers_size\"] for x in range(config[\"no_hidden_layers\"])]\n",
        "    else:\n",
        "      self.epochs = epochs\n",
        "      self.learning_rate = learning_rate\n",
        "      self.weight_decay = weight_decay\n",
        "      self.optimizer = optimizer\n",
        "      self.batch_size = batch_size\n",
        "      self.weight_initialization = weight_initialization\n",
        "      self.activations = activations\n",
        "      self.hidden_layers = hidden_layers\n",
        "\n",
        "    self.loss_function = loss_function\n",
        "    self.output_function = output_function\n",
        "    self.gamma = gamma\n",
        "    self.beta = beta\n",
        "    self.beta1 = beta1\n",
        "    self.beta2 = beta2\n",
        "    self.eps = eps\n",
        "\n",
        "    self.initialize()\n",
        "\n",
        "\n",
        "  def sigmoid(self,x):\n",
        "    return 1.0 / (1.0 + np.exp(-x))\n",
        "    \n",
        "  def tanh(self,x):\n",
        "    return np.tanh(x)\n",
        "\n",
        "  def ReLu(self,x):\n",
        "    p = np.vectorize(lambda a: max(0,a))\n",
        "    return p(x)\n",
        "\n",
        "  def d_sigmoid(self,x):\n",
        "    return self.sigmoid(x)*(1.0 - self.sigmoid(x))\n",
        "  def d_tanh(self,x):\n",
        "    return 1.0 - self.tanh(x)*self.tanh(x) \n",
        "\n",
        "  def d_ReLu(self,x):\n",
        "    return 1*(x>0)\n",
        "\n",
        "  def activation(self,x,n='sigmoid'):\n",
        "    if n == 'sigmoid':\n",
        "      return self.sigmoid(x)\n",
        "    elif n == 'tanh':\n",
        "      return self.tanh(x)\n",
        "    elif n == 'ReLu':\n",
        "      return self.ReLu(x)\n",
        "\n",
        "  def d_activation(self,x,n='sigmoid'):\n",
        "    if n == 'sigmoid':\n",
        "      return self.d_sigmoid(x)\n",
        "    elif n == 'tanh':\n",
        "      return self.d_tanh(x)\n",
        "    elif n=='ReLu':\n",
        "      return self.d_ReLu(x)\n",
        "\n",
        "\n",
        "  def softmax(self,x):\n",
        "    e = np.exp(x)\n",
        "    return e / np.sum(e,axis=0)\n",
        "\n",
        "  def output(self,x,n='softmax'):\n",
        "    if n == 'softmax':\n",
        "      return self.softmax(x)\n",
        "\n",
        "  def cross_error(self,Y,inputs):\n",
        "    Y_hat = inputs[1][-1]\n",
        "    return -1*np.sum(Y*(np.log(Y_hat)))\n",
        "\n",
        "  def error(self,Y,inputs,n='cross-entropy'):\n",
        "    if n == 'cross-entropy':\n",
        "      return self.cross_error(Y,inputs)\n",
        "  \n",
        "  def cross_error_val(self,Y,inputs):\n",
        "    W,B = self.theta\n",
        "    Y_hat = inputs[1][-1]\n",
        "    m = Y.shape[1]\n",
        "    return (-1/m)*np.sum(Y*(np.log(Y_hat))) + (self.lambd/(2*m))*(self.frobenius(W**2) + self.frobenius(B**2))\n",
        "\n",
        "  def val_error(self,Y,inputs,n='cross-entropy'):\n",
        "    if n == 'cross-entropy':\n",
        "      return self.cross_error_val(Y,inputs)\n",
        "\n",
        "  def random_initialize_parameters(self,n,layers):\n",
        "    L = len(layers)\n",
        "    biases = []\n",
        "    weights = []\n",
        "    for i in range(L):\n",
        "      bias = np.float128(np.zeros((layers[i],1)))\n",
        "      if i == 0:\n",
        "        weight = np.float128(np.random.randn(layers[i],n))\n",
        "      else:\n",
        "        weight = np.float128(np.random.randn(layers[i],layers[i-1]))\n",
        "      biases.append(bias)\n",
        "      weights.append(weight)\n",
        "    return (np.array(weights),np.array(biases))\n",
        "  \n",
        "  def Xavier_initialize_parameters(self,n,layers):\n",
        "     L=len(layers)\n",
        "     biases = []\n",
        "     weights = []\n",
        "     for i in range(L):\n",
        "       bias=np.float128(np.zeros((layers[i], 1)))\n",
        "       if i==0:\n",
        "         weight=np.float128(np.random.randn(layers[i],n))\n",
        "       else:\n",
        "         weight = np.float128(np.random.randn(layers[i],layers[i - 1]) * np.sqrt(1 / layers[i - 1]))\n",
        "       biases.append(bias)\n",
        "       weights.append(weight)\n",
        "\n",
        "     return (np.array(weights),np.array(biases))\n",
        "\n",
        "\n",
        "\n",
        "  def initialize_parameters(self,n,layers,t):\n",
        "    if t == 'random':\n",
        "      return self.random_initialize_parameters(n,layers)\n",
        "    elif t == 'Xavier':\n",
        "      return self.Xavier_initialize_parameters(n,layers)\n",
        "  \n",
        "  def update_theta(self,theta,d_theta,learning_rate):\n",
        "    weights, biases = theta\n",
        "    d_weights,d_biases = d_theta\n",
        "    weights = (1 - self.weight_decay)*weights - learning_rate*d_weights\n",
        "    biases = (1 - self.weight_decay)*biases - learning_rate*d_biases\n",
        "    return (weights,biases)\n",
        "\n",
        "  def update_theta_momentum(self,theta,d_theta,learning_rate,gamma,prev_weight,prev_bias):\n",
        "    weights, biases = theta\n",
        "    d_weights,d_biases = d_theta\n",
        "    v_weight=gamma*prev_weight+learning_rate*d_weights\n",
        "    v_bias=gamma*prev_bias+learning_rate*d_biases\n",
        "    weights = (1 - self.weight_decay)*weights - v_weight\n",
        "    biases = (1 - self.weight_decay)*biases - v_bias\n",
        "    return (weights,biases,v_weight,v_bias) \n",
        "\n",
        "  def update_theta_nestrov(self,theta,d_theta,learning_rate,gamma,prev_weight,prev_bias):\n",
        "    weights, biases = theta\n",
        "    d_weights,d_biases = d_theta\n",
        "    v_weight=gamma*prev_weight+learning_rate*d_weights\n",
        "    v_bias=gamma*prev_bias+learning_rate*d_biases\n",
        "    weights = (1 - self.weight_decay)*weights - v_weight\n",
        "    biases = (1 - self.weight_decay)*biases - v_bias\n",
        "    return (weights,biases,v_weight,v_bias)\n",
        "\n",
        "  def update_theta_rms_prop(self,theta,d_theta,d_theta2,prev_weights2,prev_biases2,learning_rate,beta,eps):\n",
        "    weights, biases = theta\n",
        "    d_weights,d_biases = d_theta\n",
        "    d_weights2,d_biases2 = d_theta2\n",
        "\n",
        "    prev_weights2=beta*prev_weights2 + (1-beta)*d_weights2\n",
        "    prev_biases2=beta*prev_biases2 + (1-beta)*d_biases2\n",
        "\n",
        "    W_ = learning_rate/((prev_weights2 + eps)**0.5)\n",
        "    B_ = learning_rate/((prev_biases2 + eps)**0.5)\n",
        "\n",
        "    weights = (1 - self.weight_decay)*weights - W_*d_weights\n",
        "    biases = (1 - self.weight_decay)*biases - B_*d_biases\n",
        "  \n",
        "    theta = (np.array(weights),np.array(biases))\n",
        "    return (theta,prev_weights2,prev_biases2)\n",
        "\n",
        "  def update_theta_adam(self,theta,d_theta,d_theta2,prev_weights,prev_bias,prev_weights2,prev_biases2,learning_rate,beta1,beta2,eps,t):\n",
        "    weights, biases = theta\n",
        "    d_weights,d_biases = d_theta\n",
        "    d_weights2,d_biases2 = d_theta2\n",
        "\n",
        "    prev_weights = beta1*prev_weights + (1-beta1)*d_weights\n",
        "    prev_bias = beta1*prev_bias + (1-beta1)*d_biases\n",
        "\n",
        "    prev_weights2=beta2*prev_weights2 + (1-beta2)*d_weights2\n",
        "    prev_biases2=beta2*prev_biases2 + (1-beta2)*d_biases2\n",
        "\n",
        "    M_W = prev_weights/(1-(beta1**t))\n",
        "    M_B = prev_bias/(1-(beta1**t))\n",
        "\n",
        "    V_W = prev_weights2/(1-(beta2**t))\n",
        "    V_B = prev_biases2/(1-(beta2**t))\n",
        "\n",
        "    V_W = learning_rate/((V_W**0.5) + eps)\n",
        "    V_B = learning_rate/((V_B **0.5) + eps)\n",
        "\n",
        "    weights = (1 - self.weight_decay)*weights - V_W*M_W\n",
        "    biases = (1 - self.weight_decay)*biases - V_B*M_B\n",
        "\n",
        "    theta = (np.array(weights),np.array(biases))\n",
        "    return (theta,prev_weights,prev_bias,prev_weights2,prev_biases2)\n",
        "  \n",
        "  def update_theta_nadam(self,theta,d_theta,d_theta2,prev_weights,prev_bias,prev_weights2,prev_biases2,learning_rate,beta1,beta2,eps,t):\n",
        "    weights, biases = theta\n",
        "    d_weights,d_biases = d_theta\n",
        "    d_weights2,d_biases2 = d_theta2\n",
        "\n",
        "    prev_weights = beta1*prev_weights + (1-beta1)*d_weights\n",
        "    prev_bias = beta1*prev_bias + (1-beta1)*d_biases\n",
        "\n",
        "    prev_weights2=beta2*prev_weights2 + (1-beta2)*d_weights2\n",
        "    prev_biases2=beta2*prev_biases2 + (1-beta2)*d_biases2\n",
        "\n",
        "    beta_t = 1-(beta1**t)\n",
        "    beta2_t = 1-(beta2**t)\n",
        "    M_W = beta1*prev_weights/beta_t + ((1-beta1)/beta_t)*d_weights\n",
        "    M_B = beta1*prev_bias/beta_t + ((1-beta1)/beta_t)*d_biases\n",
        "\n",
        "    V_W = prev_weights2/beta2_t\n",
        "    V_B = prev_biases2/beta2_t\n",
        "\n",
        "    V_W = learning_rate/((V_W**0.5) + eps)\n",
        "    V_B = learning_rate/((V_B **0.5) + eps)\n",
        "    \n",
        "    weights = (1 - self.weight_decay)*weights - V_W*M_W\n",
        "    biases = (1 - self.weight_decay)*biases - V_B*M_B\n",
        "\n",
        "    theta = (np.array(weights),np.array(biases))\n",
        "    return (theta,prev_weights,prev_bias,prev_weights2,prev_biases2)\n",
        "  \n",
        "  def frobenius(self,X):\n",
        "    s=0\n",
        "    for x in X:\n",
        "      s += np.sum(x)\n",
        "    return s\n",
        "  def feedforward(self,X,theta,L):\n",
        "    H = X\n",
        "    weights ,biases = theta\n",
        "    activations = []\n",
        "    pre_activations = []\n",
        "    for k in range(L-1):\n",
        "      A = biases[k] + (weights[k] @ H)\n",
        "      H = self.activation(A,self.activations)\n",
        "      pre_activations.append(A)\n",
        "      activations.append(H)\n",
        "    AL = biases[L-1] + (weights[L-1] @ H)\n",
        "    Y_hat = self.output(AL,self.output_function)\n",
        "    pre_activations.append(AL)\n",
        "    activations.append(Y_hat)\n",
        "    return (np.array(pre_activations),np.array(activations))\n",
        "  \n",
        "  def backprop(self,X,Y,inputs,theta,batch_size,L):\n",
        "    d_biases = []\n",
        "    d_weights = []\n",
        "    pre_activations , activations = inputs\n",
        "    weights,biases = theta\n",
        "    Y_hat = activations[-1]\n",
        "    d_AL = Y_hat - Y\n",
        "    for k in range(L-1,-1,-1):\n",
        "      if(k == 0):\n",
        "        d_W = (1/batch_size)*(d_AL @ X.T)\n",
        "        d_B = (1/batch_size)*np.sum(d_AL,axis=1,keepdims=True)\n",
        "      else:\n",
        "        d_W = (1/batch_size)*(d_AL @ activations[k-1].T)\n",
        "        d_B = (1/batch_size)*np.sum(d_AL,axis=1,keepdims=True)\n",
        "\n",
        "        d_H = weights[k].T @ d_AL\n",
        "        d_A = d_H*self.d_activation(pre_activations[k-1],self.activations)\n",
        "        d_AL = d_A\n",
        "      d_weights.insert(0,d_W)\n",
        "      d_biases.insert(0,d_B)\n",
        "    d_theta = (np.array(d_weights),np.array(d_biases))\n",
        "    return d_theta\n",
        "\n",
        "  def backprop_rms(self,X,Y,inputs,theta,batch_size,L):\n",
        "    d_biases = []\n",
        "    d_weights = []\n",
        "    d_biases2 = []\n",
        "    d_weights2 = []\n",
        "    pre_activations , activations = inputs\n",
        "    weights,biases = theta\n",
        "    Y_hat = activations[-1]\n",
        "    d_AL = Y_hat - Y\n",
        "    for k in range(L-1,-1,-1):\n",
        "      if(k == 0):\n",
        "        d_W = (1/batch_size)*(d_AL @ X.T)\n",
        "        d_W2 = (1/batch_size)*(d_AL**2 @ (X.T)**2)\n",
        "        d_B = (1/batch_size)*np.sum(d_AL,axis=1,keepdims=True)\n",
        "        d_B2 = (1/batch_size)*np.sum(d_AL**2,axis=1,keepdims=True)\n",
        "      else:\n",
        "        d_W = (1/batch_size)*(d_AL @ activations[k-1].T)\n",
        "        d_W2 = (1/batch_size)*(d_AL**2 @ (activations[k-1].T)**2)\n",
        "        d_B = (1/batch_size)*np.sum(d_AL,axis=1,keepdims=True)\n",
        "        d_B2 = (1/batch_size)*np.sum(d_AL**2,axis=1,keepdims=True)\n",
        "\n",
        "        d_H = weights[k].T @ d_AL\n",
        "        d_A = d_H*self.d_activation(pre_activations[k-1],self.activations)\n",
        "        d_AL = d_A\n",
        "      d_weights.insert(0,d_W)\n",
        "      d_biases.insert(0,d_B)\n",
        "      d_weights2.insert(0,d_W2)\n",
        "      d_biases2.insert(0,d_B2)\n",
        "    d_theta = (np.array(d_weights),np.array(d_biases))\n",
        "    d_theta2 = (np.array(d_weights2),np.array(d_biases2))\n",
        "    return (d_theta,d_theta2)\n",
        "\n",
        "  def mini_batch_gradient_descent(self,X,Y,theta,learning_rate,batch_size,L):\n",
        "    m = X.shape[1]\n",
        "    # print(weights[0].shape,L)\n",
        "    err = 0\n",
        "    for i in range(0,m//batch_size):\n",
        "      start = i*batch_size\n",
        "      stop = (i+1)*batch_size\n",
        "      inputs = self.feedforward(X[:,start:stop],theta,L)\n",
        "      W,B = theta\n",
        "      err += self.error(Y[:,start:stop],inputs,self.loss_function) + (self.lambd/2)*(self.frobenius(W**2) + self.frobenius(B**2))\n",
        "      d_theta = self.backprop(X[:,start:stop],Y[:,start:stop],inputs,theta,batch_size,L)\n",
        "      theta = self.update_theta(theta,d_theta,learning_rate)\n",
        "    if(m % batch_size != 0):\n",
        "      start = i*batch_size\n",
        "\n",
        "      inputs = self.feedforward(X[:,start:],theta,L)\n",
        "      d_theta = self.backprop(X[:,start:],Y[:,start:],inputs,theta,m%batch_size,L)\n",
        "\n",
        "      theta = self.update_theta(theta,d_theta,learning_rate)\n",
        "      W,B = theta\n",
        "      err += self.error(Y[:,start:],inputs,self.loss_function) + (self.lambd/2)*(self.frobenius(W**2) + self.frobenius(B**2))\n",
        "    return (theta,err/m)\n",
        "  \n",
        "  def mini_batch_gradient_descent_momentum(self,X,Y,theta,learning_rate,batch_size,gamma,L):\n",
        "    m = X.shape[1]\n",
        "    prev_weights,prev_bias=0,0\n",
        "    # print(weights[0].shape,L)\n",
        "    err = 0\n",
        "    for i in range(0,m//batch_size):\n",
        "      start = i*batch_size\n",
        "      stop = (i+1)*batch_size\n",
        "      inputs = self.feedforward(X[:,start:stop],theta,L)\n",
        "      W,B = theta\n",
        "      err += self.error(Y[:,start:stop],inputs,self.loss_function) + (self.lambd/2)*(self.frobenius(W**2) + self.frobenius(B**2))\n",
        "      d_theta = self.backprop(X[:,start:stop],Y[:,start:stop],inputs,theta,batch_size,L)\n",
        "      weights,biases,prev_weights,prev_bias= self.update_theta_momentum(theta,d_theta,learning_rate,gamma,prev_weights,prev_bias)\n",
        "      theta=weights,biases\n",
        "    if(m % batch_size != 0):\n",
        "      start = i*batch_size\n",
        "\n",
        "      inputs = self.feedforward(X[:,start:],theta,L)\n",
        "      d_theta = self.backprop(X[:,start:],Y[:,start:],inputs,theta,m%batch_size,L)\n",
        "\n",
        "      weights,biases,prev_weights,prev_bias= self.update_theta_momentum(theta,d_theta,learning_rate,gamma,prev_weights,prev_bias)\n",
        "      theta=weights,biases\n",
        "      err+= self.error(Y[:,start:],inputs,self.loss_function) + (self.lambd/2)*(self.frobenius(weights**2) + self.frobenius(biases**2))\n",
        "    return (theta,err/m)\n",
        "\n",
        "  def mini_batch_gradient_descent_nestrov(self,X,Y,theta,learning_rate,batch_size,gamma,L):\n",
        "    m = X.shape[1]\n",
        "    prev_weights,prev_bias=0,0\n",
        "    weights,biases=theta\n",
        "    \n",
        "    # print(weights[0].shape,L)\n",
        "    err = 0\n",
        "    for i in range(0,m//batch_size):\n",
        "      start = i*batch_size\n",
        "      stop = (i+1)*batch_size\n",
        "      inputs = self.feedforward(X[:,start:stop],theta,L)\n",
        "      W,B = theta\n",
        "      err += self.error(Y[:,start:stop],inputs,self.loss_function)+ (self.lambd/2)*(self.frobenius(W**2) + self.frobenius(B**2))\n",
        "      v_weight=gamma*prev_weights\n",
        "      v_biases=gamma*prev_bias\n",
        "      theta2=weights-v_weight,biases-v_biases\n",
        "      d_theta = self.backprop(X[:,start:stop],Y[:,start:stop],inputs,theta2,batch_size,L)\n",
        "      weights,biases,prev_weights,prev_bias= self.update_theta_nestrov(theta,d_theta,learning_rate,gamma,prev_weights,prev_bias)\n",
        "      theta=weights,biases\n",
        "    if(m % batch_size != 0):\n",
        "      \n",
        "      start = i*batch_size\n",
        "\n",
        "      inputs = self.feedforward(X[:,start:],theta,L)\n",
        "      v_weight=gamma*prev_weights\n",
        "      v_biases=gamma*prev_bias\n",
        "      theta2=weights-v_weight,biases-v_biases\n",
        "      d_theta = self.backprop(X[:,start:],Y[:,start:],inputs,theta2,m%batch_size,L)\n",
        "\n",
        "      weights,biases,prev_weights,prev_bias= self.update_theta_nestrov(theta,d_theta,learning_rate,gamma,prev_weights,prev_bias)\n",
        "      theta=weights,biases\n",
        "      err+= self.error(Y[:,start:],inputs,self.loss_function) + (self.lambd/2)*(self.frobenius(weights**2) + self.frobenius(biases**2))\n",
        "    return (theta,err/m)\n",
        "  \n",
        "  \n",
        "  def rms_prop(self,X,Y,theta,learning_rate,beta,eps,batch_size,L):\n",
        "    m = X.shape[1]\n",
        "    # print(weights[0].shape,L)\n",
        "    err = 0\n",
        "    prev_weights2,prev_biases2 = 0,0\n",
        "    for i in range(0,m//batch_size):\n",
        "      start = i*batch_size\n",
        "      stop = (i+1)*batch_size\n",
        "      inputs = self.feedforward(X[:,start:stop],theta,L)\n",
        "      W,B = theta\n",
        "      err += self.error(Y[:,start:stop],inputs,self.loss_function) + (self.lambd/2)*(self.frobenius(W**2) + self.frobenius(B**2))\n",
        "      d_theta,d_theta2 = self.backprop_rms(X[:,start:stop],Y[:,start:stop],inputs,theta,batch_size,L)\n",
        "      theta,prev_weights2,prev_biases2 = self.update_theta_rms_prop(theta,d_theta,d_theta2,prev_weights2,prev_biases2,learning_rate,beta,eps)\n",
        "    if(m % batch_size != 0):\n",
        "      start = i*batch_size\n",
        "\n",
        "      inputs = self.feedforward(X[:,start:],theta,L)\n",
        "      d_theta,d_theta2 = self.backprop_rms(X[:,start:],Y[:,start:],inputs,theta,batch_size,L)\n",
        "    \n",
        "      theta,prev_weights2,prev_biases2 = self.update_theta_rms_prop(theta,d_theta,d_theta2,prev_weights2,prev_biases2,learning_rate,beta,eps)\n",
        "      W,B = theta\n",
        "      err+= self.error(Y[:,start:],inputs,self.loss_function) +  (self.lambd/2)*(self.frobenius(W**2) + self.frobenius(B**2))\n",
        "    return (theta,err/m)\n",
        "    \n",
        "  def rms_prop2(self,X,Y,theta,learning_rate,beta,eps,batch_size,L):\n",
        "    m = X.shape[1]\n",
        "    # print(weights[0].shape,L)\n",
        "    err = 0\n",
        "    prev_weights2,prev_biases2 = 0,0\n",
        "    for i in range(0,m//batch_size):\n",
        "      start = i*batch_size\n",
        "      stop = (i+1)*batch_size\n",
        "      inputs = self.feedforward(X[:,start:stop],theta,L)\n",
        "      W,B = theta\n",
        "      err += self.error(Y[:,start:stop],inputs,self.loss_function) + (self.lambd/2)*(self.frobenius(W**2) + self.frobenius(B**2))\n",
        "      d_theta = self.backprop(X[:,start:stop],Y[:,start:stop],inputs,theta,batch_size,L)\n",
        "      d_weights,d_biases = d_theta\n",
        "      d_theta2 = (batch_size*(d_weights**2),batch_size*(d_biases**2))\n",
        "      theta,prev_weights2,prev_biases2 = self.update_theta_rms_prop(theta,d_theta,d_theta2,prev_weights2,prev_biases2,learning_rate,beta,eps)\n",
        "    if(m % batch_size != 0):\n",
        "      start = i*batch_size\n",
        "\n",
        "      inputs = self.feedforward(X[:,start:],theta,L)\n",
        "      d_theta = self.backprop(X[:,start:],Y[:,start:],inputs,theta,batch_size,L)\n",
        "      d_weights,d_biases = d_theta\n",
        "      d_theta2 = (batch_size*d_weights**2,batch_size*d_biases**2)\n",
        "    \n",
        "      theta,prev_weights2,prev_biases2 = self.update_theta_rms_prop(theta,d_theta,d_theta2,prev_weights2,prev_biases2,learning_rate,beta,eps)\n",
        "      W,B = theta\n",
        "      err+= self.error(Y[:,start:],inputs,self.loss_function) + (self.lambd/2)*(self.frobenius(W**2) + self.frobenius(B**2))\n",
        "    return (theta,err/m)\n",
        "\n",
        "  def adam(self,X,Y,theta,learning_rate,beta1,beta2,eps,batch_size,L):\n",
        "    m = X.shape[1]\n",
        "    # print(weights[0].shape,L)\n",
        "    err = 0\n",
        "    prev_weights2,prev_biases2,prev_weights,prev_bias = 0,0,0,0\n",
        "    for i in range(0,m//batch_size):\n",
        "      start = i*batch_size\n",
        "      stop = (i+1)*batch_size\n",
        "      inputs = self.feedforward(X[:,start:stop],theta,L)\n",
        "      W,B = theta\n",
        "      err += self.error(Y[:,start:stop],inputs,self.loss_function) + (self.lambd/2)*(self.frobenius(W**2) + self.frobenius(B**2))\n",
        "      d_theta,d_theta2 = self.backprop_rms(X[:,start:stop],Y[:,start:stop],inputs,theta,batch_size,L)\n",
        "      theta,prev_weights,prev_bias,prev_weights2,prev_biases2 = self.update_theta_adam(theta,d_theta,d_theta2,prev_weights,prev_bias,prev_weights2,prev_biases2,learning_rate,beta1,beta2,eps,i+1)\n",
        "    if(m % batch_size != 0):\n",
        "      start = i*batch_size\n",
        "\n",
        "      inputs = self.feedforward(X[:,start:],theta,L)\n",
        "      d_theta,d_theta2 = self.backprop_rms(X[:,start:],Y[:,start:],inputs,theta,batch_size,L)\n",
        "    \n",
        "      theta,prev_weights,prev_bias,prev_weights2,prev_biases2 = self.update_theta_adam(theta,d_theta,d_theta2,prev_weights,prev_bias,prev_weights2,prev_biases2,learning_rate,beta1,beta2,eps,i+1)\n",
        "      W,B = theta\n",
        "      err+= self.error(Y[:,start:],inputs,self.loss_function) + (self.lambd/2)*(self.frobenius(W**2) + self.frobenius(B**2))\n",
        "    return (theta,err/m)\n",
        "\n",
        "  def nadam(self,X,Y,theta,learning_rate,beta1,beta2,eps,batch_size,L):\n",
        "    m = X.shape[1]\n",
        "    # print(weights[0].shape,L)\n",
        "    err = 0\n",
        "    weights,bias=theta\n",
        "    prev_weights2,prev_biases2,prev_weights,prev_bias = 0,0,0,0\n",
        "    \n",
        "    for i in range(0,m//batch_size):\n",
        "      \n",
        "      start = i*batch_size\n",
        "      stop = (i+1)*batch_size\n",
        "      inputs = self.feedforward(X[:,start:stop],theta,L)\n",
        "      W,B = theta\n",
        "      err += self.error(Y[:,start:stop],inputs,self.loss_function) + (self.lambd/2)*(self.frobenius(W**2) + self.frobenius(B**2))\n",
        "      d_theta,d_theta2 = self.backprop_rms(X[:,start:stop],Y[:,start:stop],inputs,theta,batch_size,L)\n",
        "      theta,prev_weights,prev_bias,prev_weights2,prev_biases2 = self.update_theta_nadam(theta,d_theta,d_theta2,prev_weights,prev_bias,prev_weights2,prev_biases2,learning_rate,beta1,beta2,eps,i+1)\n",
        "   \n",
        "    if(m % batch_size != 0):\n",
        "      start = i*batch_size\n",
        "\n",
        "      inputs = self.feedforward(X[:,start:],theta,L)\n",
        "      d_theta,d_theta2 = self.backprop_rms(X[:,start:],Y[:,start:],inputs,theta,batch_size,L)\n",
        "    \n",
        "      theta,prev_weights,prev_bias,prev_weights2,prev_biases2 = self.update_theta_nadam(theta,d_theta,d_theta2,prev_weights,prev_bias,prev_weights2,prev_biases2,learning_rate,beta1,beta2,eps,i+1)\n",
        "      W,B = theta\n",
        "      err+= self.error(Y[:,start:],inputs,self.loss_function) + (self.lambd/2)*(self.frobenius(W**2) + self.frobenius(B**2))\n",
        "    return (theta,err/m)\n",
        "\n",
        "  def optimizations(self,theta,L):\n",
        "    if self.optimizer == 'sgd':\n",
        "      return self.mini_batch_gradient_descent(X_train,Y_train,theta,self.learning_rate,1,L)\n",
        "    elif self.optimizer == 'momentum':\n",
        "      return self.mini_batch_gradient_descent_momentum(X_train,Y_train,theta,self.learning_rate,self.batch_size,self.gamma,L)\n",
        "    elif self.optimizer == 'nesterov':\n",
        "      return self.mini_batch_gradient_descent_nestrov(X_train,Y_train,theta,self.learning_rate,self.batch_size,self.gamma,L)\n",
        "    elif self.optimizer == 'rmsprop':\n",
        "      return self.rms_prop(X_train,Y_train,theta,self.learning_rate,self.beta,self.eps,self.batch_size,L)\n",
        "    elif self.optimizer == 'adam':\n",
        "      return self.adam(X_train,Y_train,theta,self.learning_rate,self.beta1,self.beta2,self.eps,self.batch_size,L)\n",
        "    elif self.optimizer == 'nadam':\n",
        "      return self.nadam(X_train,Y_train,theta,self.learning_rate,self.beta1,self.beta2,self.eps,self.batch_size,L)\n",
        "      \n",
        "  # def model(self):\n",
        "  #   layers = self.hidden_layers + [self.Y.shape[0]]\n",
        "  #   theta = self.initialize_parameters(self.X.shape[0],layers,self.weight_initialization)\n",
        "  #   self.lambd = self.weight_decay/self.learning_rate\n",
        "  #   L = len(layers)\n",
        "  #   error = []\n",
        "  #   for i in range(self.epochs):\n",
        "  #     theta,err = self.optimizations(theta,L)\n",
        "  #     error.append(err)\n",
        "  #   self.theta = theta\n",
        "  #   return error\n",
        "\n",
        "  def initialize(self):\n",
        "    layers = self.hidden_layers + [Y_train.shape[0]]\n",
        "    self.theta = self.initialize_parameters(X_train.shape[0],layers,self.weight_initialization)\n",
        "    self.lambd = self.weight_decay/self.learning_rate\n",
        "    self.L = len(layers)\n",
        "  \n",
        "\n",
        "  def fit(self):\n",
        "    self.theta,train_loss = self.optimizations(self.theta,self.L)\n",
        "\n",
        "    outputs_train = self.feedforward(X_train,self.theta,self.L)\n",
        "    Y_pred_train = np.argmax(outputs_train[1][-1],0)\n",
        "    Y_true_train = np.argmax(Y_train,0)\n",
        "    train_acc = accuracy_score(Y_true_train,Y_pred_train)\n",
        "\n",
        "    outputs_val = self.feedforward(X_val,self.theta,self.L)\n",
        "    val_loss = self.val_error(Y_val,outputs_val,self.loss_function)\n",
        "    Y_pred_val = np.argmax(outputs_val[1][-1],0)\n",
        "    Y_true_val = np.argmax(Y_val,0)\n",
        "    val_acc = accuracy_score(Y_true_val,Y_pred_val)\n",
        "    \n",
        "    return train_acc,train_loss,val_acc,val_loss\n",
        "    \n",
        "    \n",
        "  def predict(self,X_test):\n",
        "    L = len(self.hidden_layers) + 1\n",
        "    outputs = self.feedforward(X_test,self.theta,L)\n",
        "    Y_pred = np.argmax(outputs[1][-1],0)\n",
        "    return Y_pred"
      ]
    },
    {
      "cell_type": "code",
      "execution_count": 8,
      "metadata": {
        "colab": {
          "base_uri": "https://localhost:8080/"
        },
        "id": "nhYbw0xEbwdQ",
        "outputId": "e8fb9167-3637-4fd7-dfd6-65659a423cd4"
      },
      "outputs": [
        {
          "output_type": "stream",
          "name": "stderr",
          "text": [
            "/usr/local/lib/python3.7/dist-packages/ipykernel_launcher.py:121: VisibleDeprecationWarning: Creating an ndarray from ragged nested sequences (which is a list-or-tuple of lists-or-tuples-or ndarrays with different lengths or shapes) is deprecated. If you meant to do this, you must specify 'dtype=object' when creating the ndarray.\n"
          ]
        }
      ],
      "source": [
        "ff = FeedForwardNN(epochs=5,optimizer='nadam',weight_initialization=\"Xavier\" ,hidden_layers=[32,32,32],activations='ReLu',batch_size=32,learning_rate=1e-3)"
      ]
    },
    {
      "cell_type": "code",
      "execution_count": 9,
      "metadata": {
        "colab": {
          "base_uri": "https://localhost:8080/"
        },
        "id": "7A58wx_1N0VK",
        "outputId": "43b7775f-3819-45b6-ea05-00e24241ceba"
      },
      "outputs": [
        {
          "output_type": "stream",
          "name": "stderr",
          "text": [
            "/usr/local/lib/python3.7/dist-packages/ipykernel_launcher.py:246: VisibleDeprecationWarning: Creating an ndarray from ragged nested sequences (which is a list-or-tuple of lists-or-tuples-or ndarrays with different lengths or shapes) is deprecated. If you meant to do this, you must specify 'dtype=object' when creating the ndarray.\n",
            "/usr/local/lib/python3.7/dist-packages/ipykernel_launcher.py:299: VisibleDeprecationWarning: Creating an ndarray from ragged nested sequences (which is a list-or-tuple of lists-or-tuples-or ndarrays with different lengths or shapes) is deprecated. If you meant to do this, you must specify 'dtype=object' when creating the ndarray.\n",
            "/usr/local/lib/python3.7/dist-packages/ipykernel_launcher.py:300: VisibleDeprecationWarning: Creating an ndarray from ragged nested sequences (which is a list-or-tuple of lists-or-tuples-or ndarrays with different lengths or shapes) is deprecated. If you meant to do this, you must specify 'dtype=object' when creating the ndarray.\n",
            "/usr/local/lib/python3.7/dist-packages/ipykernel_launcher.py:246: VisibleDeprecationWarning: Creating an ndarray from ragged nested sequences (which is a list-or-tuple of lists-or-tuples-or ndarrays with different lengths or shapes) is deprecated. If you meant to do this, you must specify 'dtype=object' when creating the ndarray.\n"
          ]
        },
        {
          "output_type": "stream",
          "name": "stdout",
          "text": [
            "[9 2 1 ... 0 1 5]\n"
          ]
        },
        {
          "output_type": "stream",
          "name": "stderr",
          "text": [
            "/usr/local/lib/python3.7/dist-packages/ipykernel_launcher.py:246: VisibleDeprecationWarning: Creating an ndarray from ragged nested sequences (which is a list-or-tuple of lists-or-tuples-or ndarrays with different lengths or shapes) is deprecated. If you meant to do this, you must specify 'dtype=object' when creating the ndarray.\n"
          ]
        }
      ],
      "source": [
        "ff.fit()\n",
        "y=ff.predict(X_test)\n",
        "print(y)"
      ]
    },
    {
      "cell_type": "code",
      "execution_count": 10,
      "metadata": {
        "colab": {
          "base_uri": "https://localhost:8080/"
        },
        "id": "38Elf0RQLsQp",
        "outputId": "39aac70c-0686-4a87-ad59-f8fbf832e3d0"
      },
      "outputs": [
        {
          "output_type": "stream",
          "name": "stdout",
          "text": [
            "Requirement already satisfied: wandb in /usr/local/lib/python3.7/dist-packages (0.12.10)\n",
            "Requirement already satisfied: psutil>=5.0.0 in /usr/local/lib/python3.7/dist-packages (from wandb) (5.4.8)\n",
            "Requirement already satisfied: protobuf>=3.12.0 in /usr/local/lib/python3.7/dist-packages (from wandb) (3.17.3)\n",
            "Requirement already satisfied: Click!=8.0.0,>=7.0 in /usr/local/lib/python3.7/dist-packages (from wandb) (7.1.2)\n",
            "Requirement already satisfied: requests<3,>=2.0.0 in /usr/local/lib/python3.7/dist-packages (from wandb) (2.23.0)\n",
            "Requirement already satisfied: python-dateutil>=2.6.1 in /usr/local/lib/python3.7/dist-packages (from wandb) (2.8.2)\n",
            "Requirement already satisfied: pathtools in /usr/local/lib/python3.7/dist-packages (from wandb) (0.1.2)\n",
            "Requirement already satisfied: six>=1.13.0 in /usr/local/lib/python3.7/dist-packages (from wandb) (1.15.0)\n",
            "Requirement already satisfied: PyYAML in /usr/local/lib/python3.7/dist-packages (from wandb) (3.13)\n",
            "Requirement already satisfied: promise<3,>=2.0 in /usr/local/lib/python3.7/dist-packages (from wandb) (2.3)\n",
            "Requirement already satisfied: shortuuid>=0.5.0 in /usr/local/lib/python3.7/dist-packages (from wandb) (1.0.8)\n",
            "Requirement already satisfied: sentry-sdk>=1.0.0 in /usr/local/lib/python3.7/dist-packages (from wandb) (1.5.5)\n",
            "Requirement already satisfied: GitPython>=1.0.0 in /usr/local/lib/python3.7/dist-packages (from wandb) (3.1.27)\n",
            "Requirement already satisfied: yaspin>=1.0.0 in /usr/local/lib/python3.7/dist-packages (from wandb) (2.1.0)\n",
            "Requirement already satisfied: docker-pycreds>=0.4.0 in /usr/local/lib/python3.7/dist-packages (from wandb) (0.4.0)\n",
            "Requirement already satisfied: typing-extensions>=3.7.4.3 in /usr/local/lib/python3.7/dist-packages (from GitPython>=1.0.0->wandb) (3.10.0.2)\n",
            "Requirement already satisfied: gitdb<5,>=4.0.1 in /usr/local/lib/python3.7/dist-packages (from GitPython>=1.0.0->wandb) (4.0.9)\n",
            "Requirement already satisfied: smmap<6,>=3.0.1 in /usr/local/lib/python3.7/dist-packages (from gitdb<5,>=4.0.1->GitPython>=1.0.0->wandb) (5.0.0)\n",
            "Requirement already satisfied: certifi>=2017.4.17 in /usr/local/lib/python3.7/dist-packages (from requests<3,>=2.0.0->wandb) (2021.10.8)\n",
            "Requirement already satisfied: idna<3,>=2.5 in /usr/local/lib/python3.7/dist-packages (from requests<3,>=2.0.0->wandb) (2.10)\n",
            "Requirement already satisfied: chardet<4,>=3.0.2 in /usr/local/lib/python3.7/dist-packages (from requests<3,>=2.0.0->wandb) (3.0.4)\n",
            "Requirement already satisfied: urllib3!=1.25.0,!=1.25.1,<1.26,>=1.21.1 in /usr/local/lib/python3.7/dist-packages (from requests<3,>=2.0.0->wandb) (1.24.3)\n",
            "Requirement already satisfied: termcolor<2.0.0,>=1.1.0 in /usr/local/lib/python3.7/dist-packages (from yaspin>=1.0.0->wandb) (1.1.0)\n",
            "\u001b[34m\u001b[1mwandb\u001b[0m: Currently logged in as: \u001b[33mdlstack\u001b[0m (use `wandb login --relogin` to force relogin)\n"
          ]
        }
      ],
      "source": [
        "!pip install wandb\n",
        "!wandb login"
      ]
    },
    {
      "cell_type": "code",
      "execution_count": 11,
      "metadata": {
        "colab": {
          "base_uri": "https://localhost:8080/",
          "height": 415
        },
        "id": "FVBBS9ECNCZy",
        "outputId": "0b185a26-08c8-4a47-934e-7319319a7509"
      },
      "outputs": [
        {
          "output_type": "stream",
          "name": "stderr",
          "text": [
            "\u001b[34m\u001b[1mwandb\u001b[0m: Currently logged in as: \u001b[33mdlstack\u001b[0m (use `wandb login --relogin` to force relogin)\n"
          ]
        },
        {
          "output_type": "stream",
          "name": "stdout",
          "text": [
            "Problem at: <ipython-input-11-3286bd6c0333> 3 <module>\n"
          ]
        },
        {
          "output_type": "error",
          "ename": "KeyboardInterrupt",
          "evalue": "ignored",
          "traceback": [
            "\u001b[0;31m---------------------------------------------------------------------------\u001b[0m",
            "\u001b[0;31mKeyboardInterrupt\u001b[0m                         Traceback (most recent call last)",
            "\u001b[0;32m<ipython-input-11-3286bd6c0333>\u001b[0m in \u001b[0;36m<module>\u001b[0;34m()\u001b[0m\n\u001b[1;32m      1\u001b[0m \u001b[0;32mimport\u001b[0m \u001b[0mwandb\u001b[0m\u001b[0;34m\u001b[0m\u001b[0;34m\u001b[0m\u001b[0m\n\u001b[1;32m      2\u001b[0m \u001b[0;34m\u001b[0m\u001b[0m\n\u001b[0;32m----> 3\u001b[0;31m \u001b[0mwandb\u001b[0m\u001b[0;34m.\u001b[0m\u001b[0minit\u001b[0m\u001b[0;34m(\u001b[0m\u001b[0mproject\u001b[0m\u001b[0;34m=\u001b[0m\u001b[0;34m\"CS6910 ASSIGNMENT 1\"\u001b[0m\u001b[0;34m,\u001b[0m \u001b[0mentity\u001b[0m\u001b[0;34m=\u001b[0m\u001b[0;34m\"dlstack\"\u001b[0m\u001b[0;34m)\u001b[0m\u001b[0;34m\u001b[0m\u001b[0;34m\u001b[0m\u001b[0m\n\u001b[0m\u001b[1;32m      4\u001b[0m \u001b[0;32mfor\u001b[0m \u001b[0mepoch\u001b[0m \u001b[0;32min\u001b[0m \u001b[0mrange\u001b[0m\u001b[0;34m(\u001b[0m\u001b[0mff\u001b[0m\u001b[0;34m.\u001b[0m\u001b[0mepochs\u001b[0m\u001b[0;34m)\u001b[0m\u001b[0;34m:\u001b[0m\u001b[0;34m\u001b[0m\u001b[0;34m\u001b[0m\u001b[0m\n\u001b[1;32m      5\u001b[0m   \u001b[0mtrain_acc\u001b[0m\u001b[0;34m,\u001b[0m\u001b[0mtrain_loss\u001b[0m\u001b[0;34m,\u001b[0m\u001b[0mval_acc\u001b[0m\u001b[0;34m,\u001b[0m\u001b[0mval_loss\u001b[0m \u001b[0;34m=\u001b[0m \u001b[0mff\u001b[0m\u001b[0;34m.\u001b[0m\u001b[0mfit\u001b[0m\u001b[0;34m(\u001b[0m\u001b[0;34m)\u001b[0m\u001b[0;34m\u001b[0m\u001b[0;34m\u001b[0m\u001b[0m\n",
            "\u001b[0;32m/usr/local/lib/python3.7/dist-packages/wandb/sdk/wandb_init.py\u001b[0m in \u001b[0;36minit\u001b[0;34m(job_type, dir, config, project, entity, reinit, tags, group, name, notes, magic, config_exclude_keys, config_include_keys, anonymous, mode, allow_val_change, resume, force, tensorboard, sync_tensorboard, monitor_gym, save_code, id, settings)\u001b[0m\n\u001b[1;32m    971\u001b[0m         \u001b[0;32massert\u001b[0m \u001b[0mlogger\u001b[0m\u001b[0;34m\u001b[0m\u001b[0;34m\u001b[0m\u001b[0m\n\u001b[1;32m    972\u001b[0m         \u001b[0mlogger\u001b[0m\u001b[0;34m.\u001b[0m\u001b[0mwarning\u001b[0m\u001b[0;34m(\u001b[0m\u001b[0;34m\"interrupted\"\u001b[0m\u001b[0;34m,\u001b[0m \u001b[0mexc_info\u001b[0m\u001b[0;34m=\u001b[0m\u001b[0me\u001b[0m\u001b[0;34m)\u001b[0m\u001b[0;34m\u001b[0m\u001b[0;34m\u001b[0m\u001b[0m\n\u001b[0;32m--> 973\u001b[0;31m         \u001b[0;32mraise\u001b[0m \u001b[0me\u001b[0m\u001b[0;34m\u001b[0m\u001b[0;34m\u001b[0m\u001b[0m\n\u001b[0m\u001b[1;32m    974\u001b[0m     \u001b[0;32mexcept\u001b[0m \u001b[0mException\u001b[0m \u001b[0;32mas\u001b[0m \u001b[0me\u001b[0m\u001b[0;34m:\u001b[0m\u001b[0;34m\u001b[0m\u001b[0;34m\u001b[0m\u001b[0m\n\u001b[1;32m    975\u001b[0m         \u001b[0merror_seen\u001b[0m \u001b[0;34m=\u001b[0m \u001b[0me\u001b[0m\u001b[0;34m\u001b[0m\u001b[0;34m\u001b[0m\u001b[0m\n",
            "\u001b[0;32m/usr/local/lib/python3.7/dist-packages/wandb/sdk/wandb_init.py\u001b[0m in \u001b[0;36minit\u001b[0;34m(job_type, dir, config, project, entity, reinit, tags, group, name, notes, magic, config_exclude_keys, config_include_keys, anonymous, mode, allow_val_change, resume, force, tensorboard, sync_tensorboard, monitor_gym, save_code, id, settings)\u001b[0m\n\u001b[1;32m    949\u001b[0m         \u001b[0mexcept_exit\u001b[0m \u001b[0;34m=\u001b[0m \u001b[0mwi\u001b[0m\u001b[0;34m.\u001b[0m\u001b[0msettings\u001b[0m\u001b[0;34m.\u001b[0m\u001b[0m_except_exit\u001b[0m\u001b[0;34m\u001b[0m\u001b[0;34m\u001b[0m\u001b[0m\n\u001b[1;32m    950\u001b[0m         \u001b[0;32mtry\u001b[0m\u001b[0;34m:\u001b[0m\u001b[0;34m\u001b[0m\u001b[0;34m\u001b[0m\u001b[0m\n\u001b[0;32m--> 951\u001b[0;31m             \u001b[0mrun\u001b[0m \u001b[0;34m=\u001b[0m \u001b[0mwi\u001b[0m\u001b[0;34m.\u001b[0m\u001b[0minit\u001b[0m\u001b[0;34m(\u001b[0m\u001b[0;34m)\u001b[0m\u001b[0;34m\u001b[0m\u001b[0;34m\u001b[0m\u001b[0m\n\u001b[0m\u001b[1;32m    952\u001b[0m             \u001b[0mexcept_exit\u001b[0m \u001b[0;34m=\u001b[0m \u001b[0mwi\u001b[0m\u001b[0;34m.\u001b[0m\u001b[0msettings\u001b[0m\u001b[0;34m.\u001b[0m\u001b[0m_except_exit\u001b[0m\u001b[0;34m\u001b[0m\u001b[0;34m\u001b[0m\u001b[0m\n\u001b[1;32m    953\u001b[0m         \u001b[0;32mexcept\u001b[0m \u001b[0;34m(\u001b[0m\u001b[0mKeyboardInterrupt\u001b[0m\u001b[0;34m,\u001b[0m \u001b[0mException\u001b[0m\u001b[0;34m)\u001b[0m \u001b[0;32mas\u001b[0m \u001b[0me\u001b[0m\u001b[0;34m:\u001b[0m\u001b[0;34m\u001b[0m\u001b[0;34m\u001b[0m\u001b[0m\n",
            "\u001b[0;32m/usr/local/lib/python3.7/dist-packages/wandb/sdk/wandb_init.py\u001b[0m in \u001b[0;36minit\u001b[0;34m(self)\u001b[0m\n\u001b[1;32m    627\u001b[0m         \u001b[0;32massert\u001b[0m \u001b[0mbackend\u001b[0m\u001b[0;34m.\u001b[0m\u001b[0minterface\u001b[0m\u001b[0;34m\u001b[0m\u001b[0;34m\u001b[0m\u001b[0m\n\u001b[1;32m    628\u001b[0m         \u001b[0;32massert\u001b[0m \u001b[0mrun_obj\u001b[0m\u001b[0;34m\u001b[0m\u001b[0;34m\u001b[0m\u001b[0m\n\u001b[0;32m--> 629\u001b[0;31m         \u001b[0m_\u001b[0m \u001b[0;34m=\u001b[0m \u001b[0mbackend\u001b[0m\u001b[0;34m.\u001b[0m\u001b[0minterface\u001b[0m\u001b[0;34m.\u001b[0m\u001b[0mcommunicate_run_start\u001b[0m\u001b[0;34m(\u001b[0m\u001b[0mrun_obj\u001b[0m\u001b[0;34m)\u001b[0m\u001b[0;34m\u001b[0m\u001b[0;34m\u001b[0m\u001b[0m\n\u001b[0m\u001b[1;32m    630\u001b[0m \u001b[0;34m\u001b[0m\u001b[0m\n\u001b[1;32m    631\u001b[0m         \u001b[0mself\u001b[0m\u001b[0;34m.\u001b[0m\u001b[0m_wl\u001b[0m\u001b[0;34m.\u001b[0m\u001b[0m_global_run_stack\u001b[0m\u001b[0;34m.\u001b[0m\u001b[0mappend\u001b[0m\u001b[0;34m(\u001b[0m\u001b[0mrun\u001b[0m\u001b[0;34m)\u001b[0m\u001b[0;34m\u001b[0m\u001b[0;34m\u001b[0m\u001b[0m\n",
            "\u001b[0;32m/usr/local/lib/python3.7/dist-packages/wandb/sdk/interface/interface.py\u001b[0m in \u001b[0;36mcommunicate_run_start\u001b[0;34m(self, run_pb)\u001b[0m\n\u001b[1;32m    219\u001b[0m         \u001b[0mrun_start\u001b[0m \u001b[0;34m=\u001b[0m \u001b[0mpb\u001b[0m\u001b[0;34m.\u001b[0m\u001b[0mRunStartRequest\u001b[0m\u001b[0;34m(\u001b[0m\u001b[0;34m)\u001b[0m\u001b[0;34m\u001b[0m\u001b[0;34m\u001b[0m\u001b[0m\n\u001b[1;32m    220\u001b[0m         \u001b[0mrun_start\u001b[0m\u001b[0;34m.\u001b[0m\u001b[0mrun\u001b[0m\u001b[0;34m.\u001b[0m\u001b[0mCopyFrom\u001b[0m\u001b[0;34m(\u001b[0m\u001b[0mrun_pb\u001b[0m\u001b[0;34m)\u001b[0m\u001b[0;34m\u001b[0m\u001b[0;34m\u001b[0m\u001b[0m\n\u001b[0;32m--> 221\u001b[0;31m         \u001b[0mresult\u001b[0m \u001b[0;34m=\u001b[0m \u001b[0mself\u001b[0m\u001b[0;34m.\u001b[0m\u001b[0m_communicate_run_start\u001b[0m\u001b[0;34m(\u001b[0m\u001b[0mrun_start\u001b[0m\u001b[0;34m)\u001b[0m\u001b[0;34m\u001b[0m\u001b[0;34m\u001b[0m\u001b[0m\n\u001b[0m\u001b[1;32m    222\u001b[0m         \u001b[0;32mreturn\u001b[0m \u001b[0mresult\u001b[0m \u001b[0;32mis\u001b[0m \u001b[0;32mnot\u001b[0m \u001b[0;32mNone\u001b[0m\u001b[0;34m\u001b[0m\u001b[0;34m\u001b[0m\u001b[0m\n\u001b[1;32m    223\u001b[0m \u001b[0;34m\u001b[0m\u001b[0m\n",
            "\u001b[0;32m/usr/local/lib/python3.7/dist-packages/wandb/sdk/interface/interface_shared.py\u001b[0m in \u001b[0;36m_communicate_run_start\u001b[0;34m(self, run_start)\u001b[0m\n\u001b[1;32m    421\u001b[0m     ) -> Optional[pb.RunStartResponse]:\n\u001b[1;32m    422\u001b[0m         \u001b[0mrec\u001b[0m \u001b[0;34m=\u001b[0m \u001b[0mself\u001b[0m\u001b[0;34m.\u001b[0m\u001b[0m_make_request\u001b[0m\u001b[0;34m(\u001b[0m\u001b[0mrun_start\u001b[0m\u001b[0;34m=\u001b[0m\u001b[0mrun_start\u001b[0m\u001b[0;34m)\u001b[0m\u001b[0;34m\u001b[0m\u001b[0;34m\u001b[0m\u001b[0m\n\u001b[0;32m--> 423\u001b[0;31m         \u001b[0mresult\u001b[0m \u001b[0;34m=\u001b[0m \u001b[0mself\u001b[0m\u001b[0;34m.\u001b[0m\u001b[0m_communicate\u001b[0m\u001b[0;34m(\u001b[0m\u001b[0mrec\u001b[0m\u001b[0;34m)\u001b[0m\u001b[0;34m\u001b[0m\u001b[0;34m\u001b[0m\u001b[0m\n\u001b[0m\u001b[1;32m    424\u001b[0m         \u001b[0;32mif\u001b[0m \u001b[0mresult\u001b[0m \u001b[0;32mis\u001b[0m \u001b[0;32mNone\u001b[0m\u001b[0;34m:\u001b[0m\u001b[0;34m\u001b[0m\u001b[0;34m\u001b[0m\u001b[0m\n\u001b[1;32m    425\u001b[0m             \u001b[0;32mreturn\u001b[0m \u001b[0;32mNone\u001b[0m\u001b[0;34m\u001b[0m\u001b[0;34m\u001b[0m\u001b[0m\n",
            "\u001b[0;32m/usr/local/lib/python3.7/dist-packages/wandb/sdk/interface/interface_shared.py\u001b[0m in \u001b[0;36m_communicate\u001b[0;34m(self, rec, timeout, local)\u001b[0m\n\u001b[1;32m    211\u001b[0m         \u001b[0mself\u001b[0m\u001b[0;34m,\u001b[0m \u001b[0mrec\u001b[0m\u001b[0;34m:\u001b[0m \u001b[0mpb\u001b[0m\u001b[0;34m.\u001b[0m\u001b[0mRecord\u001b[0m\u001b[0;34m,\u001b[0m \u001b[0mtimeout\u001b[0m\u001b[0;34m:\u001b[0m \u001b[0mOptional\u001b[0m\u001b[0;34m[\u001b[0m\u001b[0mint\u001b[0m\u001b[0;34m]\u001b[0m \u001b[0;34m=\u001b[0m \u001b[0;36m5\u001b[0m\u001b[0;34m,\u001b[0m \u001b[0mlocal\u001b[0m\u001b[0;34m:\u001b[0m \u001b[0mbool\u001b[0m \u001b[0;34m=\u001b[0m \u001b[0;32mNone\u001b[0m\u001b[0;34m\u001b[0m\u001b[0;34m\u001b[0m\u001b[0m\n\u001b[1;32m    212\u001b[0m     ) -> Optional[pb.Result]:\n\u001b[0;32m--> 213\u001b[0;31m         \u001b[0;32mreturn\u001b[0m \u001b[0mself\u001b[0m\u001b[0;34m.\u001b[0m\u001b[0m_communicate_async\u001b[0m\u001b[0;34m(\u001b[0m\u001b[0mrec\u001b[0m\u001b[0;34m,\u001b[0m \u001b[0mlocal\u001b[0m\u001b[0;34m=\u001b[0m\u001b[0mlocal\u001b[0m\u001b[0;34m)\u001b[0m\u001b[0;34m.\u001b[0m\u001b[0mget\u001b[0m\u001b[0;34m(\u001b[0m\u001b[0mtimeout\u001b[0m\u001b[0;34m=\u001b[0m\u001b[0mtimeout\u001b[0m\u001b[0;34m)\u001b[0m\u001b[0;34m\u001b[0m\u001b[0;34m\u001b[0m\u001b[0m\n\u001b[0m\u001b[1;32m    214\u001b[0m \u001b[0;34m\u001b[0m\u001b[0m\n\u001b[1;32m    215\u001b[0m     \u001b[0;32mdef\u001b[0m \u001b[0m_communicate_async\u001b[0m\u001b[0;34m(\u001b[0m\u001b[0mself\u001b[0m\u001b[0;34m,\u001b[0m \u001b[0mrec\u001b[0m\u001b[0;34m:\u001b[0m \u001b[0mpb\u001b[0m\u001b[0;34m.\u001b[0m\u001b[0mRecord\u001b[0m\u001b[0;34m,\u001b[0m \u001b[0mlocal\u001b[0m\u001b[0;34m:\u001b[0m \u001b[0mbool\u001b[0m \u001b[0;34m=\u001b[0m \u001b[0;32mNone\u001b[0m\u001b[0;34m)\u001b[0m \u001b[0;34m->\u001b[0m \u001b[0mMessageFuture\u001b[0m\u001b[0;34m:\u001b[0m\u001b[0;34m\u001b[0m\u001b[0;34m\u001b[0m\u001b[0m\n",
            "\u001b[0;32m/usr/local/lib/python3.7/dist-packages/wandb/sdk/interface/router.py\u001b[0m in \u001b[0;36mget\u001b[0;34m(self, timeout)\u001b[0m\n\u001b[1;32m     35\u001b[0m \u001b[0;34m\u001b[0m\u001b[0m\n\u001b[1;32m     36\u001b[0m     \u001b[0;32mdef\u001b[0m \u001b[0mget\u001b[0m\u001b[0;34m(\u001b[0m\u001b[0mself\u001b[0m\u001b[0;34m,\u001b[0m \u001b[0mtimeout\u001b[0m\u001b[0;34m:\u001b[0m \u001b[0mint\u001b[0m \u001b[0;34m=\u001b[0m \u001b[0;32mNone\u001b[0m\u001b[0;34m)\u001b[0m \u001b[0;34m->\u001b[0m \u001b[0mOptional\u001b[0m\u001b[0;34m[\u001b[0m\u001b[0;34m\"pb.Result\"\u001b[0m\u001b[0;34m]\u001b[0m\u001b[0;34m:\u001b[0m\u001b[0;34m\u001b[0m\u001b[0;34m\u001b[0m\u001b[0m\n\u001b[0;32m---> 37\u001b[0;31m         \u001b[0mis_set\u001b[0m \u001b[0;34m=\u001b[0m \u001b[0mself\u001b[0m\u001b[0;34m.\u001b[0m\u001b[0m_object_ready\u001b[0m\u001b[0;34m.\u001b[0m\u001b[0mwait\u001b[0m\u001b[0;34m(\u001b[0m\u001b[0mtimeout\u001b[0m\u001b[0;34m)\u001b[0m\u001b[0;34m\u001b[0m\u001b[0;34m\u001b[0m\u001b[0m\n\u001b[0m\u001b[1;32m     38\u001b[0m         \u001b[0;32mif\u001b[0m \u001b[0mis_set\u001b[0m \u001b[0;32mand\u001b[0m \u001b[0mself\u001b[0m\u001b[0;34m.\u001b[0m\u001b[0m_object\u001b[0m\u001b[0;34m:\u001b[0m\u001b[0;34m\u001b[0m\u001b[0;34m\u001b[0m\u001b[0m\n\u001b[1;32m     39\u001b[0m             \u001b[0;32mreturn\u001b[0m \u001b[0mself\u001b[0m\u001b[0;34m.\u001b[0m\u001b[0m_object\u001b[0m\u001b[0;34m\u001b[0m\u001b[0;34m\u001b[0m\u001b[0m\n",
            "\u001b[0;32m/usr/lib/python3.7/threading.py\u001b[0m in \u001b[0;36mwait\u001b[0;34m(self, timeout)\u001b[0m\n\u001b[1;32m    550\u001b[0m             \u001b[0msignaled\u001b[0m \u001b[0;34m=\u001b[0m \u001b[0mself\u001b[0m\u001b[0;34m.\u001b[0m\u001b[0m_flag\u001b[0m\u001b[0;34m\u001b[0m\u001b[0;34m\u001b[0m\u001b[0m\n\u001b[1;32m    551\u001b[0m             \u001b[0;32mif\u001b[0m \u001b[0;32mnot\u001b[0m \u001b[0msignaled\u001b[0m\u001b[0;34m:\u001b[0m\u001b[0;34m\u001b[0m\u001b[0;34m\u001b[0m\u001b[0m\n\u001b[0;32m--> 552\u001b[0;31m                 \u001b[0msignaled\u001b[0m \u001b[0;34m=\u001b[0m \u001b[0mself\u001b[0m\u001b[0;34m.\u001b[0m\u001b[0m_cond\u001b[0m\u001b[0;34m.\u001b[0m\u001b[0mwait\u001b[0m\u001b[0;34m(\u001b[0m\u001b[0mtimeout\u001b[0m\u001b[0;34m)\u001b[0m\u001b[0;34m\u001b[0m\u001b[0;34m\u001b[0m\u001b[0m\n\u001b[0m\u001b[1;32m    553\u001b[0m             \u001b[0;32mreturn\u001b[0m \u001b[0msignaled\u001b[0m\u001b[0;34m\u001b[0m\u001b[0;34m\u001b[0m\u001b[0m\n\u001b[1;32m    554\u001b[0m \u001b[0;34m\u001b[0m\u001b[0m\n",
            "\u001b[0;32m/usr/lib/python3.7/threading.py\u001b[0m in \u001b[0;36mwait\u001b[0;34m(self, timeout)\u001b[0m\n\u001b[1;32m    298\u001b[0m             \u001b[0;32melse\u001b[0m\u001b[0;34m:\u001b[0m\u001b[0;34m\u001b[0m\u001b[0;34m\u001b[0m\u001b[0m\n\u001b[1;32m    299\u001b[0m                 \u001b[0;32mif\u001b[0m \u001b[0mtimeout\u001b[0m \u001b[0;34m>\u001b[0m \u001b[0;36m0\u001b[0m\u001b[0;34m:\u001b[0m\u001b[0;34m\u001b[0m\u001b[0;34m\u001b[0m\u001b[0m\n\u001b[0;32m--> 300\u001b[0;31m                     \u001b[0mgotit\u001b[0m \u001b[0;34m=\u001b[0m \u001b[0mwaiter\u001b[0m\u001b[0;34m.\u001b[0m\u001b[0macquire\u001b[0m\u001b[0;34m(\u001b[0m\u001b[0;32mTrue\u001b[0m\u001b[0;34m,\u001b[0m \u001b[0mtimeout\u001b[0m\u001b[0;34m)\u001b[0m\u001b[0;34m\u001b[0m\u001b[0;34m\u001b[0m\u001b[0m\n\u001b[0m\u001b[1;32m    301\u001b[0m                 \u001b[0;32melse\u001b[0m\u001b[0;34m:\u001b[0m\u001b[0;34m\u001b[0m\u001b[0;34m\u001b[0m\u001b[0m\n\u001b[1;32m    302\u001b[0m                     \u001b[0mgotit\u001b[0m \u001b[0;34m=\u001b[0m \u001b[0mwaiter\u001b[0m\u001b[0;34m.\u001b[0m\u001b[0macquire\u001b[0m\u001b[0;34m(\u001b[0m\u001b[0;32mFalse\u001b[0m\u001b[0;34m)\u001b[0m\u001b[0;34m\u001b[0m\u001b[0;34m\u001b[0m\u001b[0m\n",
            "\u001b[0;31mKeyboardInterrupt\u001b[0m: "
          ]
        }
      ],
      "source": [
        "import wandb\n",
        "\n",
        "wandb.init(project=\"CS6910 ASSIGNMENT 1\", entity=\"dlstack\")\n",
        "for epoch in range(ff.epochs):\n",
        "  train_acc,train_loss,val_acc,val_loss = ff.fit()\n",
        "  metrics = {\"accuracy\":train_acc,\n",
        "             \"loss\":train_loss,\n",
        "            \"validation_accuracy\": val_acc,\n",
        "              \"validation_loss\": val_loss,\n",
        "             \"epochs\":epoch}\n",
        "  wandb.log(metrics)\n"
      ]
    },
    {
      "cell_type": "code",
      "execution_count": null,
      "metadata": {
        "colab": {
          "base_uri": "https://localhost:8080/"
        },
        "id": "NyJvUwj6Aw72",
        "outputId": "f9d8777e-a840-46eb-8b89-1b5cd2a0a4d5"
      },
      "outputs": [
        {
          "output_type": "stream",
          "name": "stdout",
          "text": [
            "{'accuracy': 0.8509629629629629, 'loss': 0.3960904800467405804, 'validation_accuracy': 0.811, 'validation_loss': 0.67369475534801420626, 'epochs': 9}\n"
          ]
        }
      ],
      "source": [
        "print(metrics)"
      ]
    },
    {
      "cell_type": "code",
      "execution_count": null,
      "metadata": {
        "id": "JSyENxWPqofw"
      },
      "outputs": [],
      "source": [
        "sweep_config = {\"name\": \"best-sweep\", \"method\": \"grid\"}\n",
        "sweep_config[\"metric\"] = {\"name\": \"loss\", \"goal\": \"minimize\"}\n",
        "#epochs=5,optimizer='adam',activations='sigmoid',batch_size=128\n",
        "parameters_dict = {\n",
        "                \"num_epochs\": {\"values\": [5,10]}, \\\n",
        "                \"optimizer\": {\"values\": [\"momentum,adam\"]}, \\\n",
        "                \"activation\": {\"values\": [\"sigmoid\"]}, \\\n",
        "                \"batch_size\": {\"values\": [128]}\n",
        "                  }\n",
        "sweep_config[\"parameters\"] = parameters_dict\n",
        "\n"
      ]
    },
    {
      "cell_type": "code",
      "execution_count": null,
      "metadata": {
        "id": "qi8twFRCxnYo"
      },
      "outputs": [],
      "source": [
        "# sweep_id = wandb.sweep(sweep_config, project = \"CS6910 ASSIGNMENT 1\")\n",
        "# wandb.agent()\n",
        "# wandb.agent(sweep_id, function = ff.fit())"
      ]
    },
    {
      "cell_type": "code",
      "execution_count": null,
      "metadata": {
        "colab": {
          "base_uri": "https://localhost:8080/"
        },
        "id": "eYSeXpUFhY7q",
        "outputId": "31f3385a-c427-46d4-ff3b-4fcd63135455"
      },
      "outputs": [
        {
          "output_type": "stream",
          "name": "stdout",
          "text": [
            "Create sweep with ID: 8651uuia\n",
            "Sweep URL: https://wandb.ai/dlstack/CS6910%20ASSIGNMENT%201/sweeps/8651uuia\n",
            "Create sweep with ID: 73itj8in\n",
            "Sweep URL: https://wandb.ai/dlstack/CS6910%20ASSIGNMENT%201/sweeps/73itj8in\n"
          ]
        }
      ],
      "source": [
        "import wandb\n",
        "sweep_config1 = {\n",
        "  \"name\" : \"my-sweep\",\n",
        "  \"method\" : \"random\",\n",
        "  \"parameters\" : {\n",
        "    \"epochs\" : {\n",
        "      \"values\" : [5,10]\n",
        "    },\n",
        "    \"learning_rate\" :{\n",
        "      \"values\" : [1e-3,1e-4]\n",
        "    },\n",
        "    \"no_hidden_layers\":{\n",
        "        \"values\" : [3,4,5]\n",
        "    },\n",
        "    \"hidden_layers_size\":{\n",
        "        \"values\" : [32,64,128]\n",
        "    },\n",
        "    \"weight_decay\":{\n",
        "      \"values\": [0,0.00005,0.005]  \n",
        "    },\n",
        "    \"optimizer\":{\n",
        "        \"values\": [\"sgd\",\"momentum\",\"nesterov\"]\n",
        "    },\n",
        "    \"batch_size\":{\n",
        "        \"values\":[16,32,64]\n",
        "    },\n",
        "    \"weight_initialization\":{\n",
        "        \"values\":[\"random\",\"Xavier\"]\n",
        "    },\n",
        "    \"activations\":{\n",
        "        \"values\":[\"sigmoid\",\"tanh\",\"ReLu\"]\n",
        "    }\n",
        "  }\n",
        "}\n",
        "sweep_config2 = {\n",
        "  \"name\" : \"my-sweep2\",\n",
        "  \"method\" : \"random\",\n",
        "  \"parameters\" : {\n",
        "    \"epochs\" : {\n",
        "      \"values\" : [5,10]\n",
        "    },\n",
        "    \"learning_rate\" :{\n",
        "      \"values\" : [1e-3,1e-4]\n",
        "    },\n",
        "    \"no_hidden_layers\":{\n",
        "        \"values\" : [3,4,5]\n",
        "    },\n",
        "    \"hidden_layers_size\":{\n",
        "        \"values\" : [32,64,128]\n",
        "    },\n",
        "    \"weight_decay\":{\n",
        "      \"values\": [0,0.00005,0.005]  \n",
        "    },\n",
        "    \"optimizer\":{\n",
        "        \"values\": [\"rms_prop\",\"adam\",\"nadam\"]\n",
        "    },\n",
        "    \"batch_size\":{\n",
        "        \"values\":[16,32,64]\n",
        "    },\n",
        "    \"weight_initialization\":{\n",
        "        \"values\":[\"Xavier\"]\n",
        "    },\n",
        "    \"activations\":{\n",
        "        \"values\":[\"sigmoid\",\"tanh\",\"ReLu\"]\n",
        "    }\n",
        "  }\n",
        "}\n",
        "\n",
        "sweep_id = wandb.sweep(sweep_config1,project=\"CS6910 ASSIGNMENT 1\", entity=\"dlstack\")\n",
        "sweep_id2 = wandb.sweep(sweep_config2,project=\"CS6910 ASSIGNMENT 1\", entity=\"dlstack\")\n"
      ]
    },
    {
      "cell_type": "code",
      "execution_count": null,
      "metadata": {
        "colab": {
          "base_uri": "https://localhost:8080/",
          "height": 838,
          "referenced_widgets": [
            "5c26e9b97b244f24984820bf90ca3af1",
            "83442f335fd047c4808472e91ae151c4",
            "2a67dd2ada754382be7c03567197d63d",
            "a42e8e51382f4454b3462bd6195df15e",
            "6500917eb2b94248ae44ad3c6e751850",
            "3fa813327ed0453c97293570af84e9a7",
            "e0e5f82e8efb4084a520b2f5b5440260",
            "22c3aa89fdeb48b48081934032e9cff4"
          ]
        },
        "id": "Rp3P2gGNlAEQ",
        "outputId": "03a776b2-8573-4644-ab0f-b604be5d9171"
      },
      "outputs": [
        {
          "output_type": "stream",
          "name": "stderr",
          "text": [
            "\u001b[34m\u001b[1mwandb\u001b[0m: \u001b[33mWARNING\u001b[0m Calling wandb.login() after wandb.init() has no effect.\n",
            "\u001b[34m\u001b[1mwandb\u001b[0m: Agent Starting Run: e5599fbk with config:\n",
            "\u001b[34m\u001b[1mwandb\u001b[0m: \tactivations: ReLu\n",
            "\u001b[34m\u001b[1mwandb\u001b[0m: \tbatch_size: 16\n",
            "\u001b[34m\u001b[1mwandb\u001b[0m: \tepochs: 10\n",
            "\u001b[34m\u001b[1mwandb\u001b[0m: \thidden_layers_size: 32\n",
            "\u001b[34m\u001b[1mwandb\u001b[0m: \tlearning_rate: 0.001\n",
            "\u001b[34m\u001b[1mwandb\u001b[0m: \tno_hidden_layers: 4\n",
            "\u001b[34m\u001b[1mwandb\u001b[0m: \toptimizer: momentum\n",
            "\u001b[34m\u001b[1mwandb\u001b[0m: \tweight_decay: 0.005\n",
            "\u001b[34m\u001b[1mwandb\u001b[0m: \tweight_initialization: random\n"
          ]
        },
        {
          "output_type": "display_data",
          "data": {
            "text/html": [
              "\n",
              "                    Syncing run <strong><a href=\"https://wandb.ai/dlstack/CS6910%20ASSIGNMENT%201/runs/e5599fbk\" target=\"_blank\">twilight-sweep-1</a></strong> to <a href=\"https://wandb.ai/dlstack/CS6910%20ASSIGNMENT%201\" target=\"_blank\">Weights & Biases</a> (<a href=\"https://docs.wandb.com/integrations/jupyter.html\" target=\"_blank\">docs</a>).<br/>\n",
              "Sweep page: <a href=\"https://wandb.ai/dlstack/CS6910%20ASSIGNMENT%201/sweeps/8651uuia\" target=\"_blank\">https://wandb.ai/dlstack/CS6910%20ASSIGNMENT%201/sweeps/8651uuia</a><br/>\n",
              "\n",
              "                "
            ],
            "text/plain": [
              "<IPython.core.display.HTML object>"
            ]
          },
          "metadata": {}
        },
        {
          "output_type": "stream",
          "name": "stderr",
          "text": [
            "/usr/local/lib/python3.7/dist-packages/ipykernel_launcher.py:106: VisibleDeprecationWarning: Creating an ndarray from ragged nested sequences (which is a list-or-tuple of lists-or-tuples-or ndarrays with different lengths or shapes) is deprecated. If you meant to do this, you must specify 'dtype=object' when creating the ndarray.\n",
            "/usr/local/lib/python3.7/dist-packages/ipykernel_launcher.py:69: RuntimeWarning: overflow encountered in exp\n",
            "/usr/local/lib/python3.7/dist-packages/ipykernel_launcher.py:70: RuntimeWarning: invalid value encountered in true_divide\n",
            "/usr/local/lib/python3.7/dist-packages/ipykernel_launcher.py:246: VisibleDeprecationWarning: Creating an ndarray from ragged nested sequences (which is a list-or-tuple of lists-or-tuples-or ndarrays with different lengths or shapes) is deprecated. If you meant to do this, you must specify 'dtype=object' when creating the ndarray.\n",
            "/usr/local/lib/python3.7/dist-packages/ipykernel_launcher.py:78: RuntimeWarning: divide by zero encountered in log\n",
            "/usr/local/lib/python3.7/dist-packages/ipykernel_launcher.py:78: RuntimeWarning: invalid value encountered in multiply\n",
            "/usr/local/lib/python3.7/dist-packages/ipykernel_launcher.py:268: VisibleDeprecationWarning: Creating an ndarray from ragged nested sequences (which is a list-or-tuple of lists-or-tuples-or ndarrays with different lengths or shapes) is deprecated. If you meant to do this, you must specify 'dtype=object' when creating the ndarray.\n",
            "/usr/local/lib/python3.7/dist-packages/numpy/lib/function_base.py:2246: RuntimeWarning: invalid value encountered in <lambda> (vectorized)\n",
            "  outputs = ufunc(*inputs)\n",
            "\u001b[34m\u001b[1mwandb\u001b[0m: Ctrl + C detected. Stopping sweep.\n",
            "\u001b[34m\u001b[1mwandb\u001b[0m: \u001b[33mWARNING\u001b[0m Calling wandb.login() after wandb.init() has no effect.\n"
          ]
        },
        {
          "output_type": "display_data",
          "data": {
            "text/html": [
              "<br/>Waiting for W&B process to finish, PID 731... <strong style=\"color:red\">(failed 1).</strong> Press ctrl-c to abort syncing."
            ],
            "text/plain": [
              "<IPython.core.display.HTML object>"
            ]
          },
          "metadata": {}
        },
        {
          "output_type": "display_data",
          "data": {
            "application/vnd.jupyter.widget-view+json": {
              "model_id": "5c26e9b97b244f24984820bf90ca3af1",
              "version_minor": 0,
              "version_major": 2
            },
            "text/plain": [
              "VBox(children=(Label(value=' 0.00MB of 0.00MB uploaded (0.00MB deduped)\\r'), FloatProgress(value=1.0, max=1.0)…"
            ]
          },
          "metadata": {}
        },
        {
          "output_type": "stream",
          "name": "stderr",
          "text": [
            "\u001b[34m\u001b[1mwandb\u001b[0m: Agent Starting Run: t1q1b8kl with config:\n",
            "\u001b[34m\u001b[1mwandb\u001b[0m: \tactivations: ReLu\n",
            "\u001b[34m\u001b[1mwandb\u001b[0m: \tbatch_size: 64\n",
            "\u001b[34m\u001b[1mwandb\u001b[0m: \tepochs: 10\n",
            "\u001b[34m\u001b[1mwandb\u001b[0m: \thidden_layers_size: 128\n",
            "\u001b[34m\u001b[1mwandb\u001b[0m: \tlearning_rate: 0.001\n",
            "\u001b[34m\u001b[1mwandb\u001b[0m: \tno_hidden_layers: 5\n",
            "\u001b[34m\u001b[1mwandb\u001b[0m: \toptimizer: adam\n",
            "\u001b[34m\u001b[1mwandb\u001b[0m: \tweight_decay: 0.005\n",
            "\u001b[34m\u001b[1mwandb\u001b[0m: \tweight_initialization: Xavier\n"
          ]
        },
        {
          "output_type": "display_data",
          "data": {
            "text/html": [
              "<style>\n",
              "    table.wandb td:nth-child(1) { padding: 0 10px; text-align: right }\n",
              "    .wandb-row { display: flex; flex-direction: row; flex-wrap: wrap; width: 100% }\n",
              "    .wandb-col { display: flex; flex-direction: column; flex-basis: 100%; flex: 1; padding: 10px; }\n",
              "    </style>\n",
              "<div class=\"wandb-row\"><div class=\"wandb-col\">\n",
              "</div><div class=\"wandb-col\">\n",
              "</div></div>\n",
              "Synced 5 W&B file(s), 0 media file(s), 0 artifact file(s) and 0 other file(s)\n",
              "<br/>Synced <strong style=\"color:#cdcd00\">twilight-sweep-1</strong>: <a href=\"https://wandb.ai/dlstack/CS6910%20ASSIGNMENT%201/runs/e5599fbk\" target=\"_blank\">https://wandb.ai/dlstack/CS6910%20ASSIGNMENT%201/runs/e5599fbk</a><br/>\n",
              "Find logs at: <code>./wandb/run-20220221_160353-e5599fbk/logs</code><br/>\n"
            ],
            "text/plain": [
              "<IPython.core.display.HTML object>"
            ]
          },
          "metadata": {}
        },
        {
          "output_type": "display_data",
          "data": {
            "text/html": [
              "\n",
              "                    Syncing run <strong><a href=\"https://wandb.ai/dlstack/CS6910%20ASSIGNMENT%201/runs/t1q1b8kl\" target=\"_blank\">bumbling-sweep-1</a></strong> to <a href=\"https://wandb.ai/dlstack/CS6910%20ASSIGNMENT%201\" target=\"_blank\">Weights & Biases</a> (<a href=\"https://docs.wandb.com/integrations/jupyter.html\" target=\"_blank\">docs</a>).<br/>\n",
              "Sweep page: <a href=\"https://wandb.ai/dlstack/CS6910%20ASSIGNMENT%201/sweeps/73itj8in\" target=\"_blank\">https://wandb.ai/dlstack/CS6910%20ASSIGNMENT%201/sweeps/73itj8in</a><br/>\n",
              "\n",
              "                "
            ],
            "text/plain": [
              "<IPython.core.display.HTML object>"
            ]
          },
          "metadata": {}
        },
        {
          "output_type": "stream",
          "name": "stderr",
          "text": [
            "/usr/local/lib/python3.7/dist-packages/ipykernel_launcher.py:121: VisibleDeprecationWarning: Creating an ndarray from ragged nested sequences (which is a list-or-tuple of lists-or-tuples-or ndarrays with different lengths or shapes) is deprecated. If you meant to do this, you must specify 'dtype=object' when creating the ndarray.\n",
            "/usr/local/lib/python3.7/dist-packages/ipykernel_launcher.py:299: VisibleDeprecationWarning: Creating an ndarray from ragged nested sequences (which is a list-or-tuple of lists-or-tuples-or ndarrays with different lengths or shapes) is deprecated. If you meant to do this, you must specify 'dtype=object' when creating the ndarray.\n",
            "/usr/local/lib/python3.7/dist-packages/ipykernel_launcher.py:300: VisibleDeprecationWarning: Creating an ndarray from ragged nested sequences (which is a list-or-tuple of lists-or-tuples-or ndarrays with different lengths or shapes) is deprecated. If you meant to do this, you must specify 'dtype=object' when creating the ndarray.\n",
            "\u001b[34m\u001b[1mwandb\u001b[0m: Ctrl + C detected. Stopping sweep.\n"
          ]
        }
      ],
      "source": [
        "def train():\n",
        "    with wandb.init() as run:\n",
        "        config = wandb.config\n",
        "        # print(config)\n",
        "        model = FeedForwardNN(config=config)\n",
        "        for epoch in range(config[\"epochs\"]):\n",
        "            train_acc,train_loss,val_acc,val_loss = model.fit()  # model training code here\n",
        "            metrics = {\n",
        "            \"accuracy\":train_acc,\n",
        "             \"loss\":train_loss,\n",
        "            \"validation_accuracy\": val_acc,\n",
        "            \"validation_loss\": val_loss,\n",
        "             \"epochs\":epoch\n",
        "             }\n",
        "            wandb.log(metrics)           \n",
        "\n",
        "count = 10 # number of runs to execute\n",
        "wandb.agent(sweep_id, function=train, count=count)\n",
        "wandb.agent(sweep_id2, function=train, count=count)"
      ]
    },
    {
      "cell_type": "code",
      "source": [
        "bern_cnf_matrix_test = confusion_matrix(y_test, y, normalize='true')\n",
        "plt.figure(figsize=(12, 8))\n",
        "ax = sns.heatmap(bern_cnf_matrix_test, annot=bern_cnf_matrix_test,xticklabels=class_names, yticklabels=class_names)\n",
        "ax.set_title(\"Confusion Matrix (Test set)\", size=16)\n",
        "ax.set_xlabel(\"Predicted Class\", size=14)\n",
        "ax.set_ylabel(\"True Class\", size=14)\n",
        "plt.savefig(\"testmatrix\")\n",
        "plt.show()\n",
        "img2 = plt.imread(\"testmatrix.png\")\n",
        "wandb.log({\"Confusion Matrix - Test set\": wandb.Image(img2)})"
      ],
      "metadata": {
        "id": "RXyb-UN6CtF-",
        "colab": {
          "base_uri": "https://localhost:8080/",
          "height": 519
        },
        "outputId": "35a801b9-a9a1-4d58-88b8-2b44a682120e"
      },
      "execution_count": 65,
      "outputs": [
        {
          "output_type": "display_data",
          "data": {
            "image/png": "[encoded data removed]",
            "text/plain": [
              "<Figure size 864x576 with 2 Axes>"
            ]
          },
          "metadata": {
            "needs_background": "light"
          }
        }
      ]
    },
    {
      "cell_type": "code",
      "source": [
        ""
      ],
      "metadata": {
        "colab": {
          "base_uri": "https://localhost:8080/",
          "height": 970
        },
        "id": "iLoWXcwgROrd",
        "outputId": "bd59c5a4-80e7-4a98-aa31-46ab35498563"
      },
      "execution_count": null,
      "outputs": [
        {
          "output_type": "error",
          "ename": "KeyboardInterrupt",
          "evalue": "ignored",
          "traceback": [
            "\u001b[0;31m---------------------------------------------------------------------------\u001b[0m",
            "\u001b[0;31mKeyboardInterrupt\u001b[0m                         Traceback (most recent call last)",
            "\u001b[0;32m<ipython-input-77-b017234a4ab9>\u001b[0m in \u001b[0;36m<module>\u001b[0;34m()\u001b[0m\n\u001b[1;32m      1\u001b[0m \u001b[0;32mfor\u001b[0m \u001b[0mpixels\u001b[0m \u001b[0;32min\u001b[0m \u001b[0mx_train\u001b[0m\u001b[0;34m:\u001b[0m\u001b[0;34m\u001b[0m\u001b[0;34m\u001b[0m\u001b[0m\n\u001b[0;32m----> 2\u001b[0;31m   \u001b[0mplt\u001b[0m\u001b[0;34m.\u001b[0m\u001b[0mimshow\u001b[0m\u001b[0;34m(\u001b[0m\u001b[0mpixels\u001b[0m\u001b[0;34m,\u001b[0m \u001b[0mcmap\u001b[0m\u001b[0;34m=\u001b[0m\u001b[0;34m'gray'\u001b[0m\u001b[0;34m)\u001b[0m\u001b[0;34m\u001b[0m\u001b[0;34m\u001b[0m\u001b[0m\n\u001b[0m\u001b[1;32m      3\u001b[0m \u001b[0mplt\u001b[0m\u001b[0;34m.\u001b[0m\u001b[0mshow\u001b[0m\u001b[0;34m(\u001b[0m\u001b[0;34m)\u001b[0m\u001b[0;34m\u001b[0m\u001b[0;34m\u001b[0m\u001b[0m\n",
            "\u001b[0;32m/usr/local/lib/python3.7/dist-packages/matplotlib/pyplot.py\u001b[0m in \u001b[0;36mimshow\u001b[0;34m(X, cmap, norm, aspect, interpolation, alpha, vmin, vmax, origin, extent, shape, filternorm, filterrad, imlim, resample, url, data, **kwargs)\u001b[0m\n\u001b[1;32m   2649\u001b[0m         \u001b[0mfilternorm\u001b[0m\u001b[0;34m=\u001b[0m\u001b[0mfilternorm\u001b[0m\u001b[0;34m,\u001b[0m \u001b[0mfilterrad\u001b[0m\u001b[0;34m=\u001b[0m\u001b[0mfilterrad\u001b[0m\u001b[0;34m,\u001b[0m \u001b[0mimlim\u001b[0m\u001b[0;34m=\u001b[0m\u001b[0mimlim\u001b[0m\u001b[0;34m,\u001b[0m\u001b[0;34m\u001b[0m\u001b[0;34m\u001b[0m\u001b[0m\n\u001b[1;32m   2650\u001b[0m         resample=resample, url=url, **({\"data\": data} if data is not\n\u001b[0;32m-> 2651\u001b[0;31m         None else {}), **kwargs)\n\u001b[0m\u001b[1;32m   2652\u001b[0m     \u001b[0msci\u001b[0m\u001b[0;34m(\u001b[0m\u001b[0m__ret\u001b[0m\u001b[0;34m)\u001b[0m\u001b[0;34m\u001b[0m\u001b[0;34m\u001b[0m\u001b[0m\n\u001b[1;32m   2653\u001b[0m     \u001b[0;32mreturn\u001b[0m \u001b[0m__ret\u001b[0m\u001b[0;34m\u001b[0m\u001b[0;34m\u001b[0m\u001b[0m\n",
            "\u001b[0;32m/usr/local/lib/python3.7/dist-packages/matplotlib/__init__.py\u001b[0m in \u001b[0;36minner\u001b[0;34m(ax, data, *args, **kwargs)\u001b[0m\n\u001b[1;32m   1563\u001b[0m     \u001b[0;32mdef\u001b[0m \u001b[0minner\u001b[0m\u001b[0;34m(\u001b[0m\u001b[0max\u001b[0m\u001b[0;34m,\u001b[0m \u001b[0;34m*\u001b[0m\u001b[0margs\u001b[0m\u001b[0;34m,\u001b[0m \u001b[0mdata\u001b[0m\u001b[0;34m=\u001b[0m\u001b[0;32mNone\u001b[0m\u001b[0;34m,\u001b[0m \u001b[0;34m**\u001b[0m\u001b[0mkwargs\u001b[0m\u001b[0;34m)\u001b[0m\u001b[0;34m:\u001b[0m\u001b[0;34m\u001b[0m\u001b[0;34m\u001b[0m\u001b[0m\n\u001b[1;32m   1564\u001b[0m         \u001b[0;32mif\u001b[0m \u001b[0mdata\u001b[0m \u001b[0;32mis\u001b[0m \u001b[0;32mNone\u001b[0m\u001b[0;34m:\u001b[0m\u001b[0;34m\u001b[0m\u001b[0;34m\u001b[0m\u001b[0m\n\u001b[0;32m-> 1565\u001b[0;31m             \u001b[0;32mreturn\u001b[0m \u001b[0mfunc\u001b[0m\u001b[0;34m(\u001b[0m\u001b[0max\u001b[0m\u001b[0;34m,\u001b[0m \u001b[0;34m*\u001b[0m\u001b[0mmap\u001b[0m\u001b[0;34m(\u001b[0m\u001b[0msanitize_sequence\u001b[0m\u001b[0;34m,\u001b[0m \u001b[0margs\u001b[0m\u001b[0;34m)\u001b[0m\u001b[0;34m,\u001b[0m \u001b[0;34m**\u001b[0m\u001b[0mkwargs\u001b[0m\u001b[0;34m)\u001b[0m\u001b[0;34m\u001b[0m\u001b[0;34m\u001b[0m\u001b[0m\n\u001b[0m\u001b[1;32m   1566\u001b[0m \u001b[0;34m\u001b[0m\u001b[0m\n\u001b[1;32m   1567\u001b[0m         \u001b[0mbound\u001b[0m \u001b[0;34m=\u001b[0m \u001b[0mnew_sig\u001b[0m\u001b[0;34m.\u001b[0m\u001b[0mbind\u001b[0m\u001b[0;34m(\u001b[0m\u001b[0max\u001b[0m\u001b[0;34m,\u001b[0m \u001b[0;34m*\u001b[0m\u001b[0margs\u001b[0m\u001b[0;34m,\u001b[0m \u001b[0;34m**\u001b[0m\u001b[0mkwargs\u001b[0m\u001b[0;34m)\u001b[0m\u001b[0;34m\u001b[0m\u001b[0;34m\u001b[0m\u001b[0m\n",
            "\u001b[0;32m/usr/local/lib/python3.7/dist-packages/matplotlib/cbook/deprecation.py\u001b[0m in \u001b[0;36mwrapper\u001b[0;34m(*args, **kwargs)\u001b[0m\n\u001b[1;32m    356\u001b[0m                 \u001b[0;34mf\"%(removal)s.  If any parameter follows {name!r}, they \"\u001b[0m\u001b[0;34m\u001b[0m\u001b[0;34m\u001b[0m\u001b[0m\n\u001b[1;32m    357\u001b[0m                 f\"should be pass as keyword, not positionally.\")\n\u001b[0;32m--> 358\u001b[0;31m         \u001b[0;32mreturn\u001b[0m \u001b[0mfunc\u001b[0m\u001b[0;34m(\u001b[0m\u001b[0;34m*\u001b[0m\u001b[0margs\u001b[0m\u001b[0;34m,\u001b[0m \u001b[0;34m**\u001b[0m\u001b[0mkwargs\u001b[0m\u001b[0;34m)\u001b[0m\u001b[0;34m\u001b[0m\u001b[0;34m\u001b[0m\u001b[0m\n\u001b[0m\u001b[1;32m    359\u001b[0m \u001b[0;34m\u001b[0m\u001b[0m\n\u001b[1;32m    360\u001b[0m     \u001b[0;32mreturn\u001b[0m \u001b[0mwrapper\u001b[0m\u001b[0;34m\u001b[0m\u001b[0;34m\u001b[0m\u001b[0m\n",
            "\u001b[0;32m/usr/local/lib/python3.7/dist-packages/matplotlib/cbook/deprecation.py\u001b[0m in \u001b[0;36mwrapper\u001b[0;34m(*args, **kwargs)\u001b[0m\n\u001b[1;32m    356\u001b[0m                 \u001b[0;34mf\"%(removal)s.  If any parameter follows {name!r}, they \"\u001b[0m\u001b[0;34m\u001b[0m\u001b[0;34m\u001b[0m\u001b[0m\n\u001b[1;32m    357\u001b[0m                 f\"should be pass as keyword, not positionally.\")\n\u001b[0;32m--> 358\u001b[0;31m         \u001b[0;32mreturn\u001b[0m \u001b[0mfunc\u001b[0m\u001b[0;34m(\u001b[0m\u001b[0;34m*\u001b[0m\u001b[0margs\u001b[0m\u001b[0;34m,\u001b[0m \u001b[0;34m**\u001b[0m\u001b[0mkwargs\u001b[0m\u001b[0;34m)\u001b[0m\u001b[0;34m\u001b[0m\u001b[0;34m\u001b[0m\u001b[0m\n\u001b[0m\u001b[1;32m    359\u001b[0m \u001b[0;34m\u001b[0m\u001b[0m\n\u001b[1;32m    360\u001b[0m     \u001b[0;32mreturn\u001b[0m \u001b[0mwrapper\u001b[0m\u001b[0;34m\u001b[0m\u001b[0;34m\u001b[0m\u001b[0m\n",
            "\u001b[0;32m/usr/local/lib/python3.7/dist-packages/matplotlib/axes/_axes.py\u001b[0m in \u001b[0;36mimshow\u001b[0;34m(self, X, cmap, norm, aspect, interpolation, alpha, vmin, vmax, origin, extent, shape, filternorm, filterrad, imlim, resample, url, **kwargs)\u001b[0m\n\u001b[1;32m   5624\u001b[0m                               resample=resample, **kwargs)\n\u001b[1;32m   5625\u001b[0m \u001b[0;34m\u001b[0m\u001b[0m\n\u001b[0;32m-> 5626\u001b[0;31m         \u001b[0mim\u001b[0m\u001b[0;34m.\u001b[0m\u001b[0mset_data\u001b[0m\u001b[0;34m(\u001b[0m\u001b[0mX\u001b[0m\u001b[0;34m)\u001b[0m\u001b[0;34m\u001b[0m\u001b[0;34m\u001b[0m\u001b[0m\n\u001b[0m\u001b[1;32m   5627\u001b[0m         \u001b[0mim\u001b[0m\u001b[0;34m.\u001b[0m\u001b[0mset_alpha\u001b[0m\u001b[0;34m(\u001b[0m\u001b[0malpha\u001b[0m\u001b[0;34m)\u001b[0m\u001b[0;34m\u001b[0m\u001b[0;34m\u001b[0m\u001b[0m\n\u001b[1;32m   5628\u001b[0m         \u001b[0;32mif\u001b[0m \u001b[0mim\u001b[0m\u001b[0;34m.\u001b[0m\u001b[0mget_clip_path\u001b[0m\u001b[0;34m(\u001b[0m\u001b[0;34m)\u001b[0m \u001b[0;32mis\u001b[0m \u001b[0;32mNone\u001b[0m\u001b[0;34m:\u001b[0m\u001b[0;34m\u001b[0m\u001b[0;34m\u001b[0m\u001b[0m\n",
            "\u001b[0;32m/usr/local/lib/python3.7/dist-packages/matplotlib/image.py\u001b[0m in \u001b[0;36mset_data\u001b[0;34m(self, A)\u001b[0m\n\u001b[1;32m    687\u001b[0m             \u001b[0;32mif\u001b[0m \u001b[0misinstance\u001b[0m\u001b[0;34m(\u001b[0m\u001b[0mA\u001b[0m\u001b[0;34m,\u001b[0m \u001b[0mImage\u001b[0m\u001b[0;34m.\u001b[0m\u001b[0mImage\u001b[0m\u001b[0;34m)\u001b[0m\u001b[0;34m:\u001b[0m\u001b[0;34m\u001b[0m\u001b[0;34m\u001b[0m\u001b[0m\n\u001b[1;32m    688\u001b[0m                 \u001b[0mA\u001b[0m \u001b[0;34m=\u001b[0m \u001b[0mpil_to_array\u001b[0m\u001b[0;34m(\u001b[0m\u001b[0mA\u001b[0m\u001b[0;34m)\u001b[0m  \u001b[0;31m# Needed e.g. to apply png palette.\u001b[0m\u001b[0;34m\u001b[0m\u001b[0;34m\u001b[0m\u001b[0m\n\u001b[0;32m--> 689\u001b[0;31m         \u001b[0mself\u001b[0m\u001b[0;34m.\u001b[0m\u001b[0m_A\u001b[0m \u001b[0;34m=\u001b[0m \u001b[0mcbook\u001b[0m\u001b[0;34m.\u001b[0m\u001b[0msafe_masked_invalid\u001b[0m\u001b[0;34m(\u001b[0m\u001b[0mA\u001b[0m\u001b[0;34m,\u001b[0m \u001b[0mcopy\u001b[0m\u001b[0;34m=\u001b[0m\u001b[0;32mTrue\u001b[0m\u001b[0;34m)\u001b[0m\u001b[0;34m\u001b[0m\u001b[0;34m\u001b[0m\u001b[0m\n\u001b[0m\u001b[1;32m    690\u001b[0m \u001b[0;34m\u001b[0m\u001b[0m\n\u001b[1;32m    691\u001b[0m         if (self._A.dtype != np.uint8 and\n",
            "\u001b[0;32m/usr/local/lib/python3.7/dist-packages/matplotlib/cbook/__init__.py\u001b[0m in \u001b[0;36msafe_masked_invalid\u001b[0;34m(x, copy)\u001b[0m\n\u001b[1;32m    713\u001b[0m \u001b[0;34m\u001b[0m\u001b[0m\n\u001b[1;32m    714\u001b[0m     \u001b[0;32mtry\u001b[0m\u001b[0;34m:\u001b[0m\u001b[0;34m\u001b[0m\u001b[0;34m\u001b[0m\u001b[0m\n\u001b[0;32m--> 715\u001b[0;31m         \u001b[0mxm\u001b[0m \u001b[0;34m=\u001b[0m \u001b[0mnp\u001b[0m\u001b[0;34m.\u001b[0m\u001b[0mma\u001b[0m\u001b[0;34m.\u001b[0m\u001b[0mmasked_invalid\u001b[0m\u001b[0;34m(\u001b[0m\u001b[0mx\u001b[0m\u001b[0;34m,\u001b[0m \u001b[0mcopy\u001b[0m\u001b[0;34m=\u001b[0m\u001b[0;32mFalse\u001b[0m\u001b[0;34m)\u001b[0m\u001b[0;34m\u001b[0m\u001b[0;34m\u001b[0m\u001b[0m\n\u001b[0m\u001b[1;32m    716\u001b[0m         \u001b[0mxm\u001b[0m\u001b[0;34m.\u001b[0m\u001b[0mshrink_mask\u001b[0m\u001b[0;34m(\u001b[0m\u001b[0;34m)\u001b[0m\u001b[0;34m\u001b[0m\u001b[0;34m\u001b[0m\u001b[0m\n\u001b[1;32m    717\u001b[0m     \u001b[0;32mexcept\u001b[0m \u001b[0mTypeError\u001b[0m\u001b[0;34m:\u001b[0m\u001b[0;34m\u001b[0m\u001b[0;34m\u001b[0m\u001b[0m\n",
            "\u001b[0;32m/usr/local/lib/python3.7/dist-packages/numpy/ma/core.py\u001b[0m in \u001b[0;36mmasked_invalid\u001b[0;34m(a, copy)\u001b[0m\n\u001b[1;32m   2367\u001b[0m         \u001b[0mcls\u001b[0m \u001b[0;34m=\u001b[0m \u001b[0mtype\u001b[0m\u001b[0;34m(\u001b[0m\u001b[0ma\u001b[0m\u001b[0;34m)\u001b[0m\u001b[0;34m\u001b[0m\u001b[0;34m\u001b[0m\u001b[0m\n\u001b[1;32m   2368\u001b[0m     \u001b[0;32melse\u001b[0m\u001b[0;34m:\u001b[0m\u001b[0;34m\u001b[0m\u001b[0;34m\u001b[0m\u001b[0m\n\u001b[0;32m-> 2369\u001b[0;31m         \u001b[0mcondition\u001b[0m \u001b[0;34m=\u001b[0m \u001b[0;34m~\u001b[0m\u001b[0;34m(\u001b[0m\u001b[0mnp\u001b[0m\u001b[0;34m.\u001b[0m\u001b[0misfinite\u001b[0m\u001b[0;34m(\u001b[0m\u001b[0ma\u001b[0m\u001b[0;34m)\u001b[0m\u001b[0;34m)\u001b[0m\u001b[0;34m\u001b[0m\u001b[0;34m\u001b[0m\u001b[0m\n\u001b[0m\u001b[1;32m   2370\u001b[0m         \u001b[0mcls\u001b[0m \u001b[0;34m=\u001b[0m \u001b[0mMaskedArray\u001b[0m\u001b[0;34m\u001b[0m\u001b[0;34m\u001b[0m\u001b[0m\n\u001b[1;32m   2371\u001b[0m     \u001b[0mresult\u001b[0m \u001b[0;34m=\u001b[0m \u001b[0ma\u001b[0m\u001b[0;34m.\u001b[0m\u001b[0mview\u001b[0m\u001b[0;34m(\u001b[0m\u001b[0mcls\u001b[0m\u001b[0;34m)\u001b[0m\u001b[0;34m\u001b[0m\u001b[0;34m\u001b[0m\u001b[0m\n",
            "\u001b[0;31mKeyboardInterrupt\u001b[0m: "
          ]
        },
        {
          "output_type": "stream",
          "name": "stderr",
          "text": [
            "Exception in thread NetStatThr:\n",
            "Traceback (most recent call last):\n",
            "  File \"/usr/lib/python3.7/threading.py\", line 926, in _bootstrap_inner\n",
            "    self.run()\n",
            "  File \"/usr/lib/python3.7/threading.py\", line 870, in run\n",
            "    self._target(*self._args, **self._kwargs)\n",
            "  File \"/usr/local/lib/python3.7/dist-packages/wandb/sdk/wandb_run.py\", line 148, in check_network_status\n",
            "    status_response = self._interface.communicate_network_status()\n",
            "  File \"/usr/local/lib/python3.7/dist-packages/wandb/sdk/interface/interface.py\", line 125, in communicate_network_status\n",
            "    resp = self._communicate_network_status(status)\n",
            "  File \"/usr/local/lib/python3.7/dist-packages/wandb/sdk/interface/interface_shared.py\", line 388, in _communicate_network_status\n",
            "    resp = self._communicate(req, local=True)\n",
            "  File \"/usr/local/lib/python3.7/dist-packages/wandb/sdk/interface/interface_shared.py\", line 213, in _communicate\n",
            "    return self._communicate_async(rec, local=local).get(timeout=timeout)\n",
            "  File \"/usr/local/lib/python3.7/dist-packages/wandb/sdk/interface/interface_shared.py\", line 218, in _communicate_async\n",
            "    raise Exception(\"The wandb backend process has shutdown\")\n",
            "Exception: The wandb backend process has shutdown\n",
            "\n",
            "Exception in thread ChkStopThr:\n",
            "Traceback (most recent call last):\n",
            "  File \"/usr/lib/python3.7/threading.py\", line 926, in _bootstrap_inner\n",
            "    self.run()\n",
            "  File \"/usr/lib/python3.7/threading.py\", line 870, in run\n",
            "    self._target(*self._args, **self._kwargs)\n",
            "  File \"/usr/local/lib/python3.7/dist-packages/wandb/sdk/wandb_run.py\", line 166, in check_status\n",
            "    status_response = self._interface.communicate_stop_status()\n",
            "  File \"/usr/local/lib/python3.7/dist-packages/wandb/sdk/interface/interface.py\", line 114, in communicate_stop_status\n",
            "    resp = self._communicate_stop_status(status)\n",
            "  File \"/usr/local/lib/python3.7/dist-packages/wandb/sdk/interface/interface_shared.py\", line 378, in _communicate_stop_status\n",
            "    resp = self._communicate(req, local=True)\n",
            "  File \"/usr/local/lib/python3.7/dist-packages/wandb/sdk/interface/interface_shared.py\", line 213, in _communicate\n",
            "    return self._communicate_async(rec, local=local).get(timeout=timeout)\n",
            "  File \"/usr/local/lib/python3.7/dist-packages/wandb/sdk/interface/interface_shared.py\", line 218, in _communicate_async\n",
            "    raise Exception(\"The wandb backend process has shutdown\")\n",
            "Exception: The wandb backend process has shutdown\n",
            "\n"
          ]
        }
      ]
    },
    {
      "cell_type": "code",
      "source": [
        ""
      ],
      "metadata": {
        "id": "a0qg6MKfC7Ek"
      },
      "execution_count": null,
      "outputs": []
    }
  ],
  "metadata": {
    "accelerator": "GPU",
    "colab": {
      "collapsed_sections": [],
      "name": "Copy of cs6910_assignment1v2.0.ipynb",
      "provenance": [],
      "include_colab_link": true
    },
    "kernelspec": {
      "display_name": "Python 3",
      "name": "python3"
    },
    "language_info": {
      "name": "python"
    },
    "widgets": {
      "application/vnd.jupyter.widget-state+json": {
        "5c26e9b97b244f24984820bf90ca3af1": {
          "model_module": "@jupyter-widgets/controls",
          "model_name": "VBoxModel",
          "model_module_version": "1.5.0",
          "state": {
            "_view_name": "VBoxView",
            "_dom_classes": [],
            "_model_name": "VBoxModel",
            "_view_module": "@jupyter-widgets/controls",
            "_model_module_version": "1.5.0",
            "_view_count": null,
            "_view_module_version": "1.5.0",
            "box_style": "",
            "layout": "IPY_MODEL_83442f335fd047c4808472e91ae151c4",
            "_model_module": "@jupyter-widgets/controls",
            "children": [
              "IPY_MODEL_2a67dd2ada754382be7c03567197d63d",
              "IPY_MODEL_a42e8e51382f4454b3462bd6195df15e"
            ]
          }
        },
        "83442f335fd047c4808472e91ae151c4": {
          "model_module": "@jupyter-widgets/base",
          "model_name": "LayoutModel",
          "model_module_version": "1.2.0",
          "state": {
            "_view_name": "LayoutView",
            "grid_template_rows": null,
            "right": null,
            "justify_content": null,
            "_view_module": "@jupyter-widgets/base",
            "overflow": null,
            "_model_module_version": "1.2.0",
            "_view_count": null,
            "flex_flow": null,
            "width": null,
            "min_width": null,
            "border": null,
            "align_items": null,
            "bottom": null,
            "_model_module": "@jupyter-widgets/base",
            "top": null,
            "grid_column": null,
            "overflow_y": null,
            "overflow_x": null,
            "grid_auto_flow": null,
            "grid_area": null,
            "grid_template_columns": null,
            "flex": null,
            "_model_name": "LayoutModel",
            "justify_items": null,
            "grid_row": null,
            "max_height": null,
            "align_content": null,
            "visibility": null,
            "align_self": null,
            "height": null,
            "min_height": null,
            "padding": null,
            "grid_auto_rows": null,
            "grid_gap": null,
            "max_width": null,
            "order": null,
            "_view_module_version": "1.2.0",
            "grid_template_areas": null,
            "object_position": null,
            "object_fit": null,
            "grid_auto_columns": null,
            "margin": null,
            "display": null,
            "left": null
          }
        },
        "2a67dd2ada754382be7c03567197d63d": {
          "model_module": "@jupyter-widgets/controls",
          "model_name": "LabelModel",
          "model_module_version": "1.5.0",
          "state": {
            "_view_name": "LabelView",
            "style": "IPY_MODEL_6500917eb2b94248ae44ad3c6e751850",
            "_dom_classes": [],
            "description": "",
            "_model_name": "LabelModel",
            "placeholder": "​",
            "_view_module": "@jupyter-widgets/controls",
            "_model_module_version": "1.5.0",
            "value": " 0.01MB of 0.01MB uploaded (0.00MB deduped)\r",
            "_view_count": null,
            "_view_module_version": "1.5.0",
            "description_tooltip": null,
            "_model_module": "@jupyter-widgets/controls",
            "layout": "IPY_MODEL_3fa813327ed0453c97293570af84e9a7"
          }
        },
        "a42e8e51382f4454b3462bd6195df15e": {
          "model_module": "@jupyter-widgets/controls",
          "model_name": "FloatProgressModel",
          "model_module_version": "1.5.0",
          "state": {
            "_view_name": "ProgressView",
            "style": "IPY_MODEL_e0e5f82e8efb4084a520b2f5b5440260",
            "_dom_classes": [],
            "description": "",
            "_model_name": "FloatProgressModel",
            "bar_style": "",
            "max": 1,
            "_view_module": "@jupyter-widgets/controls",
            "_model_module_version": "1.5.0",
            "value": 1,
            "_view_count": null,
            "_view_module_version": "1.5.0",
            "orientation": "horizontal",
            "min": 0,
            "description_tooltip": null,
            "_model_module": "@jupyter-widgets/controls",
            "layout": "IPY_MODEL_22c3aa89fdeb48b48081934032e9cff4"
          }
        },
        "6500917eb2b94248ae44ad3c6e751850": {
          "model_module": "@jupyter-widgets/controls",
          "model_name": "DescriptionStyleModel",
          "model_module_version": "1.5.0",
          "state": {
            "_view_name": "StyleView",
            "_model_name": "DescriptionStyleModel",
            "description_width": "",
            "_view_module": "@jupyter-widgets/base",
            "_model_module_version": "1.5.0",
            "_view_count": null,
            "_view_module_version": "1.2.0",
            "_model_module": "@jupyter-widgets/controls"
          }
        },
        "3fa813327ed0453c97293570af84e9a7": {
          "model_module": "@jupyter-widgets/base",
          "model_name": "LayoutModel",
          "model_module_version": "1.2.0",
          "state": {
            "_view_name": "LayoutView",
            "grid_template_rows": null,
            "right": null,
            "justify_content": null,
            "_view_module": "@jupyter-widgets/base",
            "overflow": null,
            "_model_module_version": "1.2.0",
            "_view_count": null,
            "flex_flow": null,
            "width": null,
            "min_width": null,
            "border": null,
            "align_items": null,
            "bottom": null,
            "_model_module": "@jupyter-widgets/base",
            "top": null,
            "grid_column": null,
            "overflow_y": null,
            "overflow_x": null,
            "grid_auto_flow": null,
            "grid_area": null,
            "grid_template_columns": null,
            "flex": null,
            "_model_name": "LayoutModel",
            "justify_items": null,
            "grid_row": null,
            "max_height": null,
            "align_content": null,
            "visibility": null,
            "align_self": null,
            "height": null,
            "min_height": null,
            "padding": null,
            "grid_auto_rows": null,
            "grid_gap": null,
            "max_width": null,
            "order": null,
            "_view_module_version": "1.2.0",
            "grid_template_areas": null,
            "object_position": null,
            "object_fit": null,
            "grid_auto_columns": null,
            "margin": null,
            "display": null,
            "left": null
          }
        },
        "e0e5f82e8efb4084a520b2f5b5440260": {
          "model_module": "@jupyter-widgets/controls",
          "model_name": "ProgressStyleModel",
          "model_module_version": "1.5.0",
          "state": {
            "_view_name": "StyleView",
            "_model_name": "ProgressStyleModel",
            "description_width": "",
            "_view_module": "@jupyter-widgets/base",
            "_model_module_version": "1.5.0",
            "_view_count": null,
            "_view_module_version": "1.2.0",
            "bar_color": null,
            "_model_module": "@jupyter-widgets/controls"
          }
        },
        "22c3aa89fdeb48b48081934032e9cff4": {
          "model_module": "@jupyter-widgets/base",
          "model_name": "LayoutModel",
          "model_module_version": "1.2.0",
          "state": {
            "_view_name": "LayoutView",
            "grid_template_rows": null,
            "right": null,
            "justify_content": null,
            "_view_module": "@jupyter-widgets/base",
            "overflow": null,
            "_model_module_version": "1.2.0",
            "_view_count": null,
            "flex_flow": null,
            "width": null,
            "min_width": null,
            "border": null,
            "align_items": null,
            "bottom": null,
            "_model_module": "@jupyter-widgets/base",
            "top": null,
            "grid_column": null,
            "overflow_y": null,
            "overflow_x": null,
            "grid_auto_flow": null,
            "grid_area": null,
            "grid_template_columns": null,
            "flex": null,
            "_model_name": "LayoutModel",
            "justify_items": null,
            "grid_row": null,
            "max_height": null,
            "align_content": null,
            "visibility": null,
            "align_self": null,
            "height": null,
            "min_height": null,
            "padding": null,
            "grid_auto_rows": null,
            "grid_gap": null,
            "max_width": null,
            "order": null,
            "_view_module_version": "1.2.0",
            "grid_template_areas": null,
            "object_position": null,
            "object_fit": null,
            "grid_auto_columns": null,
            "margin": null,
            "display": null,
            "left": null
          }
        }
      }
    }
  },
  "nbformat": 4,
  "nbformat_minor": 0
}